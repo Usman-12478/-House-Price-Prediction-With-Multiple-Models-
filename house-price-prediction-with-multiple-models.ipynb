{
 "cells": [
  {
   "cell_type": "code",
   "execution_count": 1,
   "id": "f183614a",
   "metadata": {
    "_cell_guid": "b1076dfc-b9ad-4769-8c92-a6c4dae69d19",
    "_uuid": "8f2839f25d086af736a60e9eeb907d3b93b6e0e5",
    "execution": {
     "iopub.execute_input": "2024-11-04T11:49:06.889292Z",
     "iopub.status.busy": "2024-11-04T11:49:06.888933Z",
     "iopub.status.idle": "2024-11-04T11:49:08.959814Z",
     "shell.execute_reply": "2024-11-04T11:49:08.958929Z"
    },
    "papermill": {
     "duration": 2.083655,
     "end_time": "2024-11-04T11:49:08.962181",
     "exception": false,
     "start_time": "2024-11-04T11:49:06.878526",
     "status": "completed"
    },
    "tags": []
   },
   "outputs": [],
   "source": [
    "import numpy as np\n",
    "import pandas as pd\n",
    "import matplotlib.pyplot as plt\n",
    "import seaborn as sns\n",
    "import warnings\n",
    "warnings.filterwarnings('ignore')\n",
    "from sklearn.preprocessing import LabelEncoder"
   ]
  },
  {
   "cell_type": "code",
   "execution_count": 2,
   "id": "4b1d54eb",
   "metadata": {
    "execution": {
     "iopub.execute_input": "2024-11-04T11:49:08.980494Z",
     "iopub.status.busy": "2024-11-04T11:49:08.980066Z",
     "iopub.status.idle": "2024-11-04T11:49:09.422071Z",
     "shell.execute_reply": "2024-11-04T11:49:09.421247Z"
    },
    "papermill": {
     "duration": 0.453587,
     "end_time": "2024-11-04T11:49:09.424468",
     "exception": false,
     "start_time": "2024-11-04T11:49:08.970881",
     "status": "completed"
    },
    "tags": []
   },
   "outputs": [],
   "source": [
    "from sklearn.model_selection import train_test_split\n",
    "from sklearn.linear_model import LinearRegression\n",
    "from sklearn.tree import DecisionTreeRegressor\n",
    "from sklearn.ensemble import RandomForestRegressor, GradientBoostingRegressor\n",
    "from sklearn.metrics import mean_squared_error, mean_absolute_error, r2_score\n",
    "import xgboost as xgb"
   ]
  },
  {
   "cell_type": "markdown",
   "id": "e779349b",
   "metadata": {
    "papermill": {
     "duration": 0.008047,
     "end_time": "2024-11-04T11:49:09.441003",
     "exception": false,
     "start_time": "2024-11-04T11:49:09.432956",
     "status": "completed"
    },
    "tags": []
   },
   "source": [
    "# Loading Dataset"
   ]
  },
  {
   "cell_type": "code",
   "execution_count": 3,
   "id": "02377c79",
   "metadata": {
    "execution": {
     "iopub.execute_input": "2024-11-04T11:49:09.459533Z",
     "iopub.status.busy": "2024-11-04T11:49:09.458789Z",
     "iopub.status.idle": "2024-11-04T11:49:10.802629Z",
     "shell.execute_reply": "2024-11-04T11:49:10.801807Z"
    },
    "papermill": {
     "duration": 1.355329,
     "end_time": "2024-11-04T11:49:10.804957",
     "exception": false,
     "start_time": "2024-11-04T11:49:09.449628",
     "status": "completed"
    },
    "tags": []
   },
   "outputs": [],
   "source": [
    "df = pd.read_csv('/kaggle/input/pakistan-house-price-prediction/Entities.csv')"
   ]
  },
  {
   "cell_type": "code",
   "execution_count": 4,
   "id": "5416064e",
   "metadata": {
    "execution": {
     "iopub.execute_input": "2024-11-04T11:49:10.824108Z",
     "iopub.status.busy": "2024-11-04T11:49:10.823820Z",
     "iopub.status.idle": "2024-11-04T11:49:10.849858Z",
     "shell.execute_reply": "2024-11-04T11:49:10.849005Z"
    },
    "papermill": {
     "duration": 0.03754,
     "end_time": "2024-11-04T11:49:10.851779",
     "exception": false,
     "start_time": "2024-11-04T11:49:10.814239",
     "status": "completed"
    },
    "tags": []
   },
   "outputs": [
    {
     "data": {
      "text/html": [
       "<div>\n",
       "<style scoped>\n",
       "    .dataframe tbody tr th:only-of-type {\n",
       "        vertical-align: middle;\n",
       "    }\n",
       "\n",
       "    .dataframe tbody tr th {\n",
       "        vertical-align: top;\n",
       "    }\n",
       "\n",
       "    .dataframe thead th {\n",
       "        text-align: right;\n",
       "    }\n",
       "</style>\n",
       "<table border=\"1\" class=\"dataframe\">\n",
       "  <thead>\n",
       "    <tr style=\"text-align: right;\">\n",
       "      <th></th>\n",
       "      <th>Unnamed: 0</th>\n",
       "      <th>property_id</th>\n",
       "      <th>location_id</th>\n",
       "      <th>page_url</th>\n",
       "      <th>property_type</th>\n",
       "      <th>price</th>\n",
       "      <th>location</th>\n",
       "      <th>city</th>\n",
       "      <th>province_name</th>\n",
       "      <th>latitude</th>\n",
       "      <th>longitude</th>\n",
       "      <th>baths</th>\n",
       "      <th>purpose</th>\n",
       "      <th>bedrooms</th>\n",
       "      <th>date_added</th>\n",
       "      <th>agency</th>\n",
       "      <th>agent</th>\n",
       "      <th>Total_Area</th>\n",
       "    </tr>\n",
       "  </thead>\n",
       "  <tbody>\n",
       "    <tr>\n",
       "      <th>168444</th>\n",
       "      <td>168444</td>\n",
       "      <td>17355251</td>\n",
       "      <td>6752</td>\n",
       "      <td>https://www.zameen.com/Property/gulshan_e_maym...</td>\n",
       "      <td>House</td>\n",
       "      <td>11000000</td>\n",
       "      <td>Gadap Town</td>\n",
       "      <td>Karachi</td>\n",
       "      <td>Sindh</td>\n",
       "      <td>25.013265</td>\n",
       "      <td>67.120818</td>\n",
       "      <td>0</td>\n",
       "      <td>For Sale</td>\n",
       "      <td>3</td>\n",
       "      <td>7/18/2019</td>\n",
       "      <td>Al Shahab Enterprises</td>\n",
       "      <td>Shahmir</td>\n",
       "      <td>21235.578</td>\n",
       "    </tr>\n",
       "    <tr>\n",
       "      <th>168445</th>\n",
       "      <td>168445</td>\n",
       "      <td>17355287</td>\n",
       "      <td>10045</td>\n",
       "      <td>https://www.zameen.com/Property/bahria_town_ka...</td>\n",
       "      <td>House</td>\n",
       "      <td>9000000</td>\n",
       "      <td>Bahria Town Karachi</td>\n",
       "      <td>Karachi</td>\n",
       "      <td>Sindh</td>\n",
       "      <td>25.113565</td>\n",
       "      <td>67.353811</td>\n",
       "      <td>3</td>\n",
       "      <td>For Sale</td>\n",
       "      <td>3</td>\n",
       "      <td>7/18/2019</td>\n",
       "      <td>ZPN Real Estate &amp; Builders</td>\n",
       "      <td>Ali Raza</td>\n",
       "      <td>25591.594</td>\n",
       "    </tr>\n",
       "  </tbody>\n",
       "</table>\n",
       "</div>"
      ],
      "text/plain": [
       "        Unnamed: 0  property_id  location_id  \\\n",
       "168444      168444     17355251         6752   \n",
       "168445      168445     17355287        10045   \n",
       "\n",
       "                                                 page_url property_type  \\\n",
       "168444  https://www.zameen.com/Property/gulshan_e_maym...         House   \n",
       "168445  https://www.zameen.com/Property/bahria_town_ka...         House   \n",
       "\n",
       "           price             location     city province_name   latitude  \\\n",
       "168444  11000000           Gadap Town  Karachi         Sindh  25.013265   \n",
       "168445   9000000  Bahria Town Karachi  Karachi         Sindh  25.113565   \n",
       "\n",
       "        longitude  baths   purpose  bedrooms date_added  \\\n",
       "168444  67.120818      0  For Sale         3  7/18/2019   \n",
       "168445  67.353811      3  For Sale         3  7/18/2019   \n",
       "\n",
       "                            agency     agent  Total_Area  \n",
       "168444       Al Shahab Enterprises   Shahmir   21235.578  \n",
       "168445  ZPN Real Estate & Builders  Ali Raza   25591.594  "
      ]
     },
     "execution_count": 4,
     "metadata": {},
     "output_type": "execute_result"
    }
   ],
   "source": [
    "df.tail(2)"
   ]
  },
  {
   "cell_type": "code",
   "execution_count": 5,
   "id": "76c7bcd2",
   "metadata": {
    "execution": {
     "iopub.execute_input": "2024-11-04T11:49:10.870111Z",
     "iopub.status.busy": "2024-11-04T11:49:10.869831Z",
     "iopub.status.idle": "2024-11-04T11:49:11.194247Z",
     "shell.execute_reply": "2024-11-04T11:49:11.193083Z"
    },
    "papermill": {
     "duration": 0.337475,
     "end_time": "2024-11-04T11:49:11.198085",
     "exception": false,
     "start_time": "2024-11-04T11:49:10.860610",
     "status": "completed"
    },
    "tags": []
   },
   "outputs": [
    {
     "name": "stdout",
     "output_type": "stream",
     "text": [
      "<class 'pandas.core.frame.DataFrame'>\n",
      "RangeIndex: 168446 entries, 0 to 168445\n",
      "Data columns (total 18 columns):\n",
      " #   Column         Non-Null Count   Dtype  \n",
      "---  ------         --------------   -----  \n",
      " 0   Unnamed: 0     168446 non-null  int64  \n",
      " 1   property_id    168446 non-null  int64  \n",
      " 2   location_id    168446 non-null  int64  \n",
      " 3   page_url       168446 non-null  object \n",
      " 4   property_type  168446 non-null  object \n",
      " 5   price          168446 non-null  int64  \n",
      " 6   location       168446 non-null  object \n",
      " 7   city           168446 non-null  object \n",
      " 8   province_name  168446 non-null  object \n",
      " 9   latitude       168446 non-null  float64\n",
      " 10  longitude      168446 non-null  float64\n",
      " 11  baths          168446 non-null  int64  \n",
      " 12  purpose        168446 non-null  object \n",
      " 13  bedrooms       168446 non-null  int64  \n",
      " 14  date_added     168446 non-null  object \n",
      " 15  agency         124375 non-null  object \n",
      " 16  agent          124374 non-null  object \n",
      " 17  Total_Area     168446 non-null  float64\n",
      "dtypes: float64(3), int64(6), object(9)\n",
      "memory usage: 23.1+ MB\n"
     ]
    },
    {
     "data": {
      "text/plain": [
       "Unnamed: 0           0\n",
       "property_id          0\n",
       "location_id          0\n",
       "page_url             0\n",
       "property_type        0\n",
       "price                0\n",
       "location             0\n",
       "city                 0\n",
       "province_name        0\n",
       "latitude             0\n",
       "longitude            0\n",
       "baths                0\n",
       "purpose              0\n",
       "bedrooms             0\n",
       "date_added           0\n",
       "agency           44071\n",
       "agent            44072\n",
       "Total_Area           0\n",
       "dtype: int64"
      ]
     },
     "execution_count": 5,
     "metadata": {},
     "output_type": "execute_result"
    }
   ],
   "source": [
    "df.info()\n",
    "df.isnull().sum()"
   ]
  },
  {
   "cell_type": "markdown",
   "id": "6b1a67f0",
   "metadata": {
    "papermill": {
     "duration": 0.011642,
     "end_time": "2024-11-04T11:49:11.221742",
     "exception": false,
     "start_time": "2024-11-04T11:49:11.210100",
     "status": "completed"
    },
    "tags": []
   },
   "source": [
    "# Scatterplot Of Houss Prices and Cities"
   ]
  },
  {
   "cell_type": "code",
   "execution_count": 6,
   "id": "46295446",
   "metadata": {
    "execution": {
     "iopub.execute_input": "2024-11-04T11:49:11.241132Z",
     "iopub.status.busy": "2024-11-04T11:49:11.240784Z",
     "iopub.status.idle": "2024-11-04T11:49:12.026141Z",
     "shell.execute_reply": "2024-11-04T11:49:12.025266Z"
    },
    "papermill": {
     "duration": 0.797601,
     "end_time": "2024-11-04T11:49:12.028383",
     "exception": false,
     "start_time": "2024-11-04T11:49:11.230782",
     "status": "completed"
    },
    "tags": []
   },
   "outputs": [
    {
     "data": {
      "image/png": "[encoded data removed]",
      "text/plain": [
       "<Figure size 600x400 with 1 Axes>"
      ]
     },
     "metadata": {},
     "output_type": "display_data"
    }
   ],
   "source": [
    "plt.figure(figsize = (6, 4))\n",
    "sns.scatterplot(x = 'city', y = 'price', data = df )\n",
    "plt.title('House Prices by City')\n",
    "plt.xlabel('City')\n",
    "plt.ylabel('Price')\n",
    "plt.show()"
   ]
  },
  {
   "cell_type": "code",
   "execution_count": 7,
   "id": "23f55595",
   "metadata": {
    "execution": {
     "iopub.execute_input": "2024-11-04T11:49:12.048969Z",
     "iopub.status.busy": "2024-11-04T11:49:12.048649Z",
     "iopub.status.idle": "2024-11-04T11:49:12.068111Z",
     "shell.execute_reply": "2024-11-04T11:49:12.067225Z"
    },
    "papermill": {
     "duration": 0.032067,
     "end_time": "2024-11-04T11:49:12.070047",
     "exception": false,
     "start_time": "2024-11-04T11:49:12.037980",
     "status": "completed"
    },
    "tags": []
   },
   "outputs": [
    {
     "data": {
      "text/html": [
       "<div>\n",
       "<style scoped>\n",
       "    .dataframe tbody tr th:only-of-type {\n",
       "        vertical-align: middle;\n",
       "    }\n",
       "\n",
       "    .dataframe tbody tr th {\n",
       "        vertical-align: top;\n",
       "    }\n",
       "\n",
       "    .dataframe thead th {\n",
       "        text-align: right;\n",
       "    }\n",
       "</style>\n",
       "<table border=\"1\" class=\"dataframe\">\n",
       "  <thead>\n",
       "    <tr style=\"text-align: right;\">\n",
       "      <th></th>\n",
       "      <th>Unnamed: 0</th>\n",
       "      <th>property_id</th>\n",
       "      <th>location_id</th>\n",
       "      <th>page_url</th>\n",
       "      <th>property_type</th>\n",
       "      <th>price</th>\n",
       "      <th>location</th>\n",
       "      <th>city</th>\n",
       "      <th>province_name</th>\n",
       "      <th>latitude</th>\n",
       "      <th>longitude</th>\n",
       "      <th>baths</th>\n",
       "      <th>purpose</th>\n",
       "      <th>bedrooms</th>\n",
       "      <th>date_added</th>\n",
       "      <th>agency</th>\n",
       "      <th>agent</th>\n",
       "      <th>Total_Area</th>\n",
       "    </tr>\n",
       "  </thead>\n",
       "  <tbody>\n",
       "    <tr>\n",
       "      <th>0</th>\n",
       "      <td>0</td>\n",
       "      <td>237062</td>\n",
       "      <td>3325</td>\n",
       "      <td>https://www.zameen.com/Property/g_10_g_10_2_gr...</td>\n",
       "      <td>Flat</td>\n",
       "      <td>10000000</td>\n",
       "      <td>G-10</td>\n",
       "      <td>Islamabad</td>\n",
       "      <td>Islamabad Capital</td>\n",
       "      <td>33.679890</td>\n",
       "      <td>73.012640</td>\n",
       "      <td>2</td>\n",
       "      <td>For Sale</td>\n",
       "      <td>2</td>\n",
       "      <td>2/4/2019</td>\n",
       "      <td>NaN</td>\n",
       "      <td>NaN</td>\n",
       "      <td>1089.004</td>\n",
       "    </tr>\n",
       "    <tr>\n",
       "      <th>1</th>\n",
       "      <td>1</td>\n",
       "      <td>346905</td>\n",
       "      <td>3236</td>\n",
       "      <td>https://www.zameen.com/Property/e_11_2_service...</td>\n",
       "      <td>Flat</td>\n",
       "      <td>6900000</td>\n",
       "      <td>E-11</td>\n",
       "      <td>Islamabad</td>\n",
       "      <td>Islamabad Capital</td>\n",
       "      <td>33.700993</td>\n",
       "      <td>72.971492</td>\n",
       "      <td>3</td>\n",
       "      <td>For Sale</td>\n",
       "      <td>3</td>\n",
       "      <td>5/4/2019</td>\n",
       "      <td>NaN</td>\n",
       "      <td>NaN</td>\n",
       "      <td>15246.056</td>\n",
       "    </tr>\n",
       "    <tr>\n",
       "      <th>2</th>\n",
       "      <td>2</td>\n",
       "      <td>386513</td>\n",
       "      <td>764</td>\n",
       "      <td>https://www.zameen.com/Property/islamabad_g_15...</td>\n",
       "      <td>House</td>\n",
       "      <td>16500000</td>\n",
       "      <td>G-15</td>\n",
       "      <td>Islamabad</td>\n",
       "      <td>Islamabad Capital</td>\n",
       "      <td>33.631486</td>\n",
       "      <td>72.926559</td>\n",
       "      <td>6</td>\n",
       "      <td>For Sale</td>\n",
       "      <td>5</td>\n",
       "      <td>7/17/2019</td>\n",
       "      <td>NaN</td>\n",
       "      <td>NaN</td>\n",
       "      <td>2178.008</td>\n",
       "    </tr>\n",
       "    <tr>\n",
       "      <th>3</th>\n",
       "      <td>3</td>\n",
       "      <td>656161</td>\n",
       "      <td>340</td>\n",
       "      <td>https://www.zameen.com/Property/islamabad_bani...</td>\n",
       "      <td>House</td>\n",
       "      <td>43500000</td>\n",
       "      <td>Bani Gala</td>\n",
       "      <td>Islamabad</td>\n",
       "      <td>Islamabad Capital</td>\n",
       "      <td>33.707573</td>\n",
       "      <td>73.151199</td>\n",
       "      <td>4</td>\n",
       "      <td>For Sale</td>\n",
       "      <td>4</td>\n",
       "      <td>4/5/2019</td>\n",
       "      <td>NaN</td>\n",
       "      <td>NaN</td>\n",
       "      <td>10890.000</td>\n",
       "    </tr>\n",
       "    <tr>\n",
       "      <th>4</th>\n",
       "      <td>4</td>\n",
       "      <td>841645</td>\n",
       "      <td>3226</td>\n",
       "      <td>https://www.zameen.com/Property/dha_valley_dha...</td>\n",
       "      <td>House</td>\n",
       "      <td>7000000</td>\n",
       "      <td>DHA Defence</td>\n",
       "      <td>Islamabad</td>\n",
       "      <td>Islamabad Capital</td>\n",
       "      <td>33.492591</td>\n",
       "      <td>73.301339</td>\n",
       "      <td>3</td>\n",
       "      <td>For Sale</td>\n",
       "      <td>3</td>\n",
       "      <td>7/10/2019</td>\n",
       "      <td>Easy Property</td>\n",
       "      <td>Muhammad Junaid Ceo Muhammad Shahid Director</td>\n",
       "      <td>2178.008</td>\n",
       "    </tr>\n",
       "    <tr>\n",
       "      <th>5</th>\n",
       "      <td>5</td>\n",
       "      <td>850762</td>\n",
       "      <td>3390</td>\n",
       "      <td>https://www.zameen.com/Property/ghauri_town_gh...</td>\n",
       "      <td>House</td>\n",
       "      <td>34500000</td>\n",
       "      <td>Ghauri Town</td>\n",
       "      <td>Islamabad</td>\n",
       "      <td>Islamabad Capital</td>\n",
       "      <td>33.623947</td>\n",
       "      <td>73.126588</td>\n",
       "      <td>8</td>\n",
       "      <td>For Sale</td>\n",
       "      <td>8</td>\n",
       "      <td>4/5/2019</td>\n",
       "      <td>NaN</td>\n",
       "      <td>NaN</td>\n",
       "      <td>87120.000</td>\n",
       "    </tr>\n",
       "    <tr>\n",
       "      <th>6</th>\n",
       "      <td>6</td>\n",
       "      <td>937975</td>\n",
       "      <td>445</td>\n",
       "      <td>https://www.zameen.com/Property/islamabad_kora...</td>\n",
       "      <td>House</td>\n",
       "      <td>27000000</td>\n",
       "      <td>Korang Town</td>\n",
       "      <td>Islamabad</td>\n",
       "      <td>Islamabad Capital</td>\n",
       "      <td>33.579034</td>\n",
       "      <td>73.139591</td>\n",
       "      <td>8</td>\n",
       "      <td>For Sale</td>\n",
       "      <td>8</td>\n",
       "      <td>1/4/2019</td>\n",
       "      <td>NaN</td>\n",
       "      <td>NaN</td>\n",
       "      <td>5445.000</td>\n",
       "    </tr>\n",
       "  </tbody>\n",
       "</table>\n",
       "</div>"
      ],
      "text/plain": [
       "   Unnamed: 0  property_id  location_id  \\\n",
       "0           0       237062         3325   \n",
       "1           1       346905         3236   \n",
       "2           2       386513          764   \n",
       "3           3       656161          340   \n",
       "4           4       841645         3226   \n",
       "5           5       850762         3390   \n",
       "6           6       937975          445   \n",
       "\n",
       "                                            page_url property_type     price  \\\n",
       "0  https://www.zameen.com/Property/g_10_g_10_2_gr...          Flat  10000000   \n",
       "1  https://www.zameen.com/Property/e_11_2_service...          Flat   6900000   \n",
       "2  https://www.zameen.com/Property/islamabad_g_15...         House  16500000   \n",
       "3  https://www.zameen.com/Property/islamabad_bani...         House  43500000   \n",
       "4  https://www.zameen.com/Property/dha_valley_dha...         House   7000000   \n",
       "5  https://www.zameen.com/Property/ghauri_town_gh...         House  34500000   \n",
       "6  https://www.zameen.com/Property/islamabad_kora...         House  27000000   \n",
       "\n",
       "      location       city      province_name   latitude  longitude  baths  \\\n",
       "0         G-10  Islamabad  Islamabad Capital  33.679890  73.012640      2   \n",
       "1         E-11  Islamabad  Islamabad Capital  33.700993  72.971492      3   \n",
       "2         G-15  Islamabad  Islamabad Capital  33.631486  72.926559      6   \n",
       "3    Bani Gala  Islamabad  Islamabad Capital  33.707573  73.151199      4   \n",
       "4  DHA Defence  Islamabad  Islamabad Capital  33.492591  73.301339      3   \n",
       "5  Ghauri Town  Islamabad  Islamabad Capital  33.623947  73.126588      8   \n",
       "6  Korang Town  Islamabad  Islamabad Capital  33.579034  73.139591      8   \n",
       "\n",
       "    purpose  bedrooms date_added         agency  \\\n",
       "0  For Sale         2   2/4/2019            NaN   \n",
       "1  For Sale         3   5/4/2019            NaN   \n",
       "2  For Sale         5  7/17/2019            NaN   \n",
       "3  For Sale         4   4/5/2019            NaN   \n",
       "4  For Sale         3  7/10/2019  Easy Property   \n",
       "5  For Sale         8   4/5/2019            NaN   \n",
       "6  For Sale         8   1/4/2019            NaN   \n",
       "\n",
       "                                          agent  Total_Area  \n",
       "0                                           NaN    1089.004  \n",
       "1                                           NaN   15246.056  \n",
       "2                                           NaN    2178.008  \n",
       "3                                           NaN   10890.000  \n",
       "4  Muhammad Junaid Ceo Muhammad Shahid Director    2178.008  \n",
       "5                                           NaN   87120.000  \n",
       "6                                           NaN    5445.000  "
      ]
     },
     "execution_count": 7,
     "metadata": {},
     "output_type": "execute_result"
    }
   ],
   "source": [
    "df.head(7)"
   ]
  },
  {
   "cell_type": "markdown",
   "id": "7e39bdad",
   "metadata": {
    "papermill": {
     "duration": 0.009267,
     "end_time": "2024-11-04T11:49:12.088981",
     "exception": false,
     "start_time": "2024-11-04T11:49:12.079714",
     "status": "completed"
    },
    "tags": []
   },
   "source": [
    "# Price Visualization Of Each City"
   ]
  },
  {
   "cell_type": "code",
   "execution_count": 8,
   "id": "18073e40",
   "metadata": {
    "execution": {
     "iopub.execute_input": "2024-11-04T11:49:12.109531Z",
     "iopub.status.busy": "2024-11-04T11:49:12.109002Z",
     "iopub.status.idle": "2024-11-04T11:49:12.250764Z",
     "shell.execute_reply": "2024-11-04T11:49:12.249776Z"
    },
    "papermill": {
     "duration": 0.154552,
     "end_time": "2024-11-04T11:49:12.253113",
     "exception": false,
     "start_time": "2024-11-04T11:49:12.098561",
     "status": "completed"
    },
    "tags": []
   },
   "outputs": [],
   "source": [
    "islamabad_data = df[df['city'] == 'Islamabad']\n",
    "karachi_data = df[df['city'] == 'Karachi']\n",
    "rawalpindi_data = df[df['city'] == 'Rawalpindi']\n",
    "lahore_data = df[df['city'] == 'Lahore']"
   ]
  },
  {
   "cell_type": "code",
   "execution_count": 9,
   "id": "3b899ae5",
   "metadata": {
    "execution": {
     "iopub.execute_input": "2024-11-04T11:49:12.274554Z",
     "iopub.status.busy": "2024-11-04T11:49:12.274202Z",
     "iopub.status.idle": "2024-11-04T11:49:13.248496Z",
     "shell.execute_reply": "2024-11-04T11:49:13.247613Z"
    },
    "papermill": {
     "duration": 0.987689,
     "end_time": "2024-11-04T11:49:13.251024",
     "exception": false,
     "start_time": "2024-11-04T11:49:12.263335",
     "status": "completed"
    },
    "tags": []
   },
   "outputs": [
    {
     "data": {
      "image/png": "[encoded data removed]",
      "text/plain": [
       "<Figure size 1200x400 with 4 Axes>"
      ]
     },
     "metadata": {},
     "output_type": "display_data"
    }
   ],
   "source": [
    "plt.figure(figsize = (12, 4))\n",
    "\n",
    "plt.subplot(1, 4, 1)\n",
    "plt.hist(islamabad_data['price'], bins = 20)\n",
    "plt.grid()\n",
    "plt.title('Islamabad')\n",
    "\n",
    "plt.subplot(1, 4, 2)\n",
    "plt.hist(karachi_data['price'], bins = 20)\n",
    "plt.grid()\n",
    "plt.title('Karachi')\n",
    "\n",
    "plt.subplot(1, 4, 3)\n",
    "plt.hist(rawalpindi_data['price'], bins = 20)\n",
    "plt.grid()\n",
    "plt.title('Rawalpindi')\n",
    "\n",
    "plt.subplot(1, 4, 4)\n",
    "plt.hist(lahore_data['price'], bins = 20)\n",
    "plt.grid()\n",
    "plt.title('Lahore')\n",
    "\n",
    "plt.tight_layout()\n",
    "plt.show()"
   ]
  },
  {
   "cell_type": "code",
   "execution_count": 10,
   "id": "eb62054f",
   "metadata": {
    "execution": {
     "iopub.execute_input": "2024-11-04T11:49:13.273002Z",
     "iopub.status.busy": "2024-11-04T11:49:13.272710Z",
     "iopub.status.idle": "2024-11-04T11:49:13.278613Z",
     "shell.execute_reply": "2024-11-04T11:49:13.277743Z"
    },
    "papermill": {
     "duration": 0.019184,
     "end_time": "2024-11-04T11:49:13.280664",
     "exception": false,
     "start_time": "2024-11-04T11:49:13.261480",
     "status": "completed"
    },
    "tags": []
   },
   "outputs": [
    {
     "data": {
      "text/plain": [
       "['Unnamed: 0',\n",
       " 'property_id',\n",
       " 'location_id',\n",
       " 'page_url',\n",
       " 'property_type',\n",
       " 'price',\n",
       " 'location',\n",
       " 'city',\n",
       " 'province_name',\n",
       " 'latitude',\n",
       " 'longitude',\n",
       " 'baths',\n",
       " 'purpose',\n",
       " 'bedrooms',\n",
       " 'date_added',\n",
       " 'agency',\n",
       " 'agent',\n",
       " 'Total_Area']"
      ]
     },
     "execution_count": 10,
     "metadata": {},
     "output_type": "execute_result"
    }
   ],
   "source": [
    "df.columns.tolist()"
   ]
  },
  {
   "cell_type": "markdown",
   "id": "f470d81f",
   "metadata": {
    "papermill": {
     "duration": 0.010588,
     "end_time": "2024-11-04T11:49:13.302098",
     "exception": false,
     "start_time": "2024-11-04T11:49:13.291510",
     "status": "completed"
    },
    "tags": []
   },
   "source": [
    "# Correlation Matrix\n",
    "Identifying key matrics that impact the house prices"
   ]
  },
  {
   "cell_type": "code",
   "execution_count": 11,
   "id": "7e7c85c0",
   "metadata": {
    "execution": {
     "iopub.execute_input": "2024-11-04T11:49:13.324754Z",
     "iopub.status.busy": "2024-11-04T11:49:13.323969Z",
     "iopub.status.idle": "2024-11-04T11:49:13.655919Z",
     "shell.execute_reply": "2024-11-04T11:49:13.654978Z"
    },
    "papermill": {
     "duration": 0.345572,
     "end_time": "2024-11-04T11:49:13.658068",
     "exception": false,
     "start_time": "2024-11-04T11:49:13.312496",
     "status": "completed"
    },
    "tags": []
   },
   "outputs": [
    {
     "data": {
      "image/png": "[encoded data removed]",
      "text/plain": [
       "<Figure size 640x480 with 2 Axes>"
      ]
     },
     "metadata": {},
     "output_type": "display_data"
    }
   ],
   "source": [
    "corr_matrix = df[['bedrooms', 'Total_Area', 'latitude', 'longitude', 'price']].corr()\n",
    "sns.heatmap(corr_matrix, annot = True)\n",
    "plt.show()"
   ]
  },
  {
   "cell_type": "code",
   "execution_count": 12,
   "id": "d6bf3c8f",
   "metadata": {
    "execution": {
     "iopub.execute_input": "2024-11-04T11:49:13.681223Z",
     "iopub.status.busy": "2024-11-04T11:49:13.680957Z",
     "iopub.status.idle": "2024-11-04T11:49:13.744506Z",
     "shell.execute_reply": "2024-11-04T11:49:13.743587Z"
    },
    "papermill": {
     "duration": 0.077522,
     "end_time": "2024-11-04T11:49:13.746659",
     "exception": false,
     "start_time": "2024-11-04T11:49:13.669137",
     "status": "completed"
    },
    "tags": []
   },
   "outputs": [
    {
     "data": {
      "text/html": [
       "<div>\n",
       "<style scoped>\n",
       "    .dataframe tbody tr th:only-of-type {\n",
       "        vertical-align: middle;\n",
       "    }\n",
       "\n",
       "    .dataframe tbody tr th {\n",
       "        vertical-align: top;\n",
       "    }\n",
       "\n",
       "    .dataframe thead th {\n",
       "        text-align: right;\n",
       "    }\n",
       "</style>\n",
       "<table border=\"1\" class=\"dataframe\">\n",
       "  <thead>\n",
       "    <tr style=\"text-align: right;\">\n",
       "      <th></th>\n",
       "      <th>Unnamed: 0</th>\n",
       "      <th>property_id</th>\n",
       "      <th>location_id</th>\n",
       "      <th>price</th>\n",
       "      <th>latitude</th>\n",
       "      <th>longitude</th>\n",
       "      <th>baths</th>\n",
       "      <th>bedrooms</th>\n",
       "      <th>Total_Area</th>\n",
       "    </tr>\n",
       "  </thead>\n",
       "  <tbody>\n",
       "    <tr>\n",
       "      <th>count</th>\n",
       "      <td>168446.000000</td>\n",
       "      <td>1.684460e+05</td>\n",
       "      <td>168446.000000</td>\n",
       "      <td>1.684460e+05</td>\n",
       "      <td>168446.000000</td>\n",
       "      <td>168446.000000</td>\n",
       "      <td>168446.000000</td>\n",
       "      <td>168446.000000</td>\n",
       "      <td>1.684460e+05</td>\n",
       "    </tr>\n",
       "    <tr>\n",
       "      <th>mean</th>\n",
       "      <td>84222.500000</td>\n",
       "      <td>1.559626e+07</td>\n",
       "      <td>4375.936395</td>\n",
       "      <td>1.776576e+07</td>\n",
       "      <td>29.859519</td>\n",
       "      <td>71.239804</td>\n",
       "      <td>2.874227</td>\n",
       "      <td>3.179422</td>\n",
       "      <td>1.394239e+04</td>\n",
       "    </tr>\n",
       "    <tr>\n",
       "      <th>std</th>\n",
       "      <td>48626.316059</td>\n",
       "      <td>2.251207e+06</td>\n",
       "      <td>3776.561581</td>\n",
       "      <td>3.531003e+07</td>\n",
       "      <td>3.807870</td>\n",
       "      <td>3.133042</td>\n",
       "      <td>2.463400</td>\n",
       "      <td>1.971401</td>\n",
       "      <td>8.623647e+05</td>\n",
       "    </tr>\n",
       "    <tr>\n",
       "      <th>min</th>\n",
       "      <td>0.000000</td>\n",
       "      <td>8.657500e+04</td>\n",
       "      <td>1.000000</td>\n",
       "      <td>0.000000e+00</td>\n",
       "      <td>11.052446</td>\n",
       "      <td>25.906027</td>\n",
       "      <td>0.000000</td>\n",
       "      <td>0.000000</td>\n",
       "      <td>0.000000e+00</td>\n",
       "    </tr>\n",
       "    <tr>\n",
       "      <th>25%</th>\n",
       "      <td>42111.250000</td>\n",
       "      <td>1.488320e+07</td>\n",
       "      <td>1058.000000</td>\n",
       "      <td>1.750000e+05</td>\n",
       "      <td>24.948536</td>\n",
       "      <td>67.130363</td>\n",
       "      <td>0.000000</td>\n",
       "      <td>2.000000</td>\n",
       "      <td>1.905757e+03</td>\n",
       "    </tr>\n",
       "    <tr>\n",
       "      <th>50%</th>\n",
       "      <td>84222.500000</td>\n",
       "      <td>1.665851e+07</td>\n",
       "      <td>3286.000000</td>\n",
       "      <td>8.500000e+06</td>\n",
       "      <td>31.459784</td>\n",
       "      <td>73.056182</td>\n",
       "      <td>3.000000</td>\n",
       "      <td>3.000000</td>\n",
       "      <td>4.356016e+03</td>\n",
       "    </tr>\n",
       "    <tr>\n",
       "      <th>75%</th>\n",
       "      <td>126333.750000</td>\n",
       "      <td>1.708662e+07</td>\n",
       "      <td>7220.000000</td>\n",
       "      <td>1.950000e+07</td>\n",
       "      <td>33.560887</td>\n",
       "      <td>73.259870</td>\n",
       "      <td>4.000000</td>\n",
       "      <td>4.000000</td>\n",
       "      <td>1.197904e+04</td>\n",
       "    </tr>\n",
       "    <tr>\n",
       "      <th>max</th>\n",
       "      <td>168445.000000</td>\n",
       "      <td>1.735772e+07</td>\n",
       "      <td>14220.000000</td>\n",
       "      <td>2.000000e+09</td>\n",
       "      <td>73.184088</td>\n",
       "      <td>80.161430</td>\n",
       "      <td>403.000000</td>\n",
       "      <td>68.000000</td>\n",
       "      <td>3.387988e+08</td>\n",
       "    </tr>\n",
       "  </tbody>\n",
       "</table>\n",
       "</div>"
      ],
      "text/plain": [
       "          Unnamed: 0   property_id    location_id         price  \\\n",
       "count  168446.000000  1.684460e+05  168446.000000  1.684460e+05   \n",
       "mean    84222.500000  1.559626e+07    4375.936395  1.776576e+07   \n",
       "std     48626.316059  2.251207e+06    3776.561581  3.531003e+07   \n",
       "min         0.000000  8.657500e+04       1.000000  0.000000e+00   \n",
       "25%     42111.250000  1.488320e+07    1058.000000  1.750000e+05   \n",
       "50%     84222.500000  1.665851e+07    3286.000000  8.500000e+06   \n",
       "75%    126333.750000  1.708662e+07    7220.000000  1.950000e+07   \n",
       "max    168445.000000  1.735772e+07   14220.000000  2.000000e+09   \n",
       "\n",
       "            latitude      longitude          baths       bedrooms  \\\n",
       "count  168446.000000  168446.000000  168446.000000  168446.000000   \n",
       "mean       29.859519      71.239804       2.874227       3.179422   \n",
       "std         3.807870       3.133042       2.463400       1.971401   \n",
       "min        11.052446      25.906027       0.000000       0.000000   \n",
       "25%        24.948536      67.130363       0.000000       2.000000   \n",
       "50%        31.459784      73.056182       3.000000       3.000000   \n",
       "75%        33.560887      73.259870       4.000000       4.000000   \n",
       "max        73.184088      80.161430     403.000000      68.000000   \n",
       "\n",
       "         Total_Area  \n",
       "count  1.684460e+05  \n",
       "mean   1.394239e+04  \n",
       "std    8.623647e+05  \n",
       "min    0.000000e+00  \n",
       "25%    1.905757e+03  \n",
       "50%    4.356016e+03  \n",
       "75%    1.197904e+04  \n",
       "max    3.387988e+08  "
      ]
     },
     "execution_count": 12,
     "metadata": {},
     "output_type": "execute_result"
    }
   ],
   "source": [
    "df.describe()"
   ]
  },
  {
   "cell_type": "markdown",
   "id": "081f095a",
   "metadata": {
    "papermill": {
     "duration": 0.011008,
     "end_time": "2024-11-04T11:49:13.769501",
     "exception": false,
     "start_time": "2024-11-04T11:49:13.758493",
     "status": "completed"
    },
    "tags": []
   },
   "source": [
    "Drop irrelevant columns to reduce dimensionality\n"
   ]
  },
  {
   "cell_type": "code",
   "execution_count": 13,
   "id": "ffbb9c6a",
   "metadata": {
    "execution": {
     "iopub.execute_input": "2024-11-04T11:49:13.793004Z",
     "iopub.status.busy": "2024-11-04T11:49:13.792687Z",
     "iopub.status.idle": "2024-11-04T11:49:13.805886Z",
     "shell.execute_reply": "2024-11-04T11:49:13.805010Z"
    },
    "papermill": {
     "duration": 0.027255,
     "end_time": "2024-11-04T11:49:13.807788",
     "exception": false,
     "start_time": "2024-11-04T11:49:13.780533",
     "status": "completed"
    },
    "tags": []
   },
   "outputs": [],
   "source": [
    "df.drop(['Unnamed: 0', 'property_id', 'location_id', 'page_url', 'date_added', 'agency', 'agent'], axis=1, inplace=True)\n"
   ]
  },
  {
   "cell_type": "code",
   "execution_count": 14,
   "id": "98ada174",
   "metadata": {
    "execution": {
     "iopub.execute_input": "2024-11-04T11:49:13.831253Z",
     "iopub.status.busy": "2024-11-04T11:49:13.830991Z",
     "iopub.status.idle": "2024-11-04T11:49:13.843499Z",
     "shell.execute_reply": "2024-11-04T11:49:13.842667Z"
    },
    "papermill": {
     "duration": 0.026353,
     "end_time": "2024-11-04T11:49:13.845326",
     "exception": false,
     "start_time": "2024-11-04T11:49:13.818973",
     "status": "completed"
    },
    "tags": []
   },
   "outputs": [
    {
     "data": {
      "text/html": [
       "<div>\n",
       "<style scoped>\n",
       "    .dataframe tbody tr th:only-of-type {\n",
       "        vertical-align: middle;\n",
       "    }\n",
       "\n",
       "    .dataframe tbody tr th {\n",
       "        vertical-align: top;\n",
       "    }\n",
       "\n",
       "    .dataframe thead th {\n",
       "        text-align: right;\n",
       "    }\n",
       "</style>\n",
       "<table border=\"1\" class=\"dataframe\">\n",
       "  <thead>\n",
       "    <tr style=\"text-align: right;\">\n",
       "      <th></th>\n",
       "      <th>property_type</th>\n",
       "      <th>price</th>\n",
       "      <th>location</th>\n",
       "      <th>city</th>\n",
       "      <th>province_name</th>\n",
       "      <th>latitude</th>\n",
       "      <th>longitude</th>\n",
       "      <th>baths</th>\n",
       "      <th>purpose</th>\n",
       "      <th>bedrooms</th>\n",
       "      <th>Total_Area</th>\n",
       "    </tr>\n",
       "  </thead>\n",
       "  <tbody>\n",
       "    <tr>\n",
       "      <th>0</th>\n",
       "      <td>Flat</td>\n",
       "      <td>10000000</td>\n",
       "      <td>G-10</td>\n",
       "      <td>Islamabad</td>\n",
       "      <td>Islamabad Capital</td>\n",
       "      <td>33.67989</td>\n",
       "      <td>73.01264</td>\n",
       "      <td>2</td>\n",
       "      <td>For Sale</td>\n",
       "      <td>2</td>\n",
       "      <td>1089.004</td>\n",
       "    </tr>\n",
       "  </tbody>\n",
       "</table>\n",
       "</div>"
      ],
      "text/plain": [
       "  property_type     price location       city      province_name  latitude  \\\n",
       "0          Flat  10000000     G-10  Islamabad  Islamabad Capital  33.67989   \n",
       "\n",
       "   longitude  baths   purpose  bedrooms  Total_Area  \n",
       "0   73.01264      2  For Sale         2    1089.004  "
      ]
     },
     "execution_count": 14,
     "metadata": {},
     "output_type": "execute_result"
    }
   ],
   "source": [
    "df.head(1)"
   ]
  },
  {
   "cell_type": "markdown",
   "id": "247dcd80",
   "metadata": {
    "papermill": {
     "duration": 0.011345,
     "end_time": "2024-11-04T11:49:13.868167",
     "exception": false,
     "start_time": "2024-11-04T11:49:13.856822",
     "status": "completed"
    },
    "tags": []
   },
   "source": [
    "# LabelEncoder\n",
    "- Use label encoding instead of one-hot encoding to simplify the dataset\n"
   ]
  },
  {
   "cell_type": "code",
   "execution_count": 15,
   "id": "8b10820e",
   "metadata": {
    "execution": {
     "iopub.execute_input": "2024-11-04T11:49:13.891988Z",
     "iopub.status.busy": "2024-11-04T11:49:13.891728Z",
     "iopub.status.idle": "2024-11-04T11:49:13.895622Z",
     "shell.execute_reply": "2024-11-04T11:49:13.894809Z"
    },
    "papermill": {
     "duration": 0.018047,
     "end_time": "2024-11-04T11:49:13.897528",
     "exception": false,
     "start_time": "2024-11-04T11:49:13.879481",
     "status": "completed"
    },
    "tags": []
   },
   "outputs": [],
   "source": [
    "le = LabelEncoder()"
   ]
  },
  {
   "cell_type": "code",
   "execution_count": 16,
   "id": "6e3c1bd5",
   "metadata": {
    "execution": {
     "iopub.execute_input": "2024-11-04T11:49:13.921032Z",
     "iopub.status.busy": "2024-11-04T11:49:13.920781Z",
     "iopub.status.idle": "2024-11-04T11:49:14.153776Z",
     "shell.execute_reply": "2024-11-04T11:49:14.152979Z"
    },
    "papermill": {
     "duration": 0.247548,
     "end_time": "2024-11-04T11:49:14.156296",
     "exception": false,
     "start_time": "2024-11-04T11:49:13.908748",
     "status": "completed"
    },
    "tags": []
   },
   "outputs": [],
   "source": [
    "columns_to_encode = ['purpose', 'location', 'city', 'province_name', 'property_type']\n",
    "df[columns_to_encode] = df[columns_to_encode].apply(lambda x: LabelEncoder().fit_transform(x))"
   ]
  },
  {
   "cell_type": "markdown",
   "id": "6af132ff",
   "metadata": {
    "papermill": {
     "duration": 0.011327,
     "end_time": "2024-11-04T11:49:14.179676",
     "exception": false,
     "start_time": "2024-11-04T11:49:14.168349",
     "status": "completed"
    },
    "tags": []
   },
   "source": [
    "* **df[columns_to_encode]** selects the specified columns.\n",
    "* **apply** applies a function to each column.\n",
    "* The **lambda** function create a LabelEncoder objects for each column and fits and transform the data"
   ]
  },
  {
   "cell_type": "code",
   "execution_count": 17,
   "id": "0961c826",
   "metadata": {
    "execution": {
     "iopub.execute_input": "2024-11-04T11:49:14.203956Z",
     "iopub.status.busy": "2024-11-04T11:49:14.203640Z",
     "iopub.status.idle": "2024-11-04T11:49:14.217303Z",
     "shell.execute_reply": "2024-11-04T11:49:14.216459Z"
    },
    "papermill": {
     "duration": 0.028357,
     "end_time": "2024-11-04T11:49:14.219350",
     "exception": false,
     "start_time": "2024-11-04T11:49:14.190993",
     "status": "completed"
    },
    "tags": []
   },
   "outputs": [
    {
     "data": {
      "text/html": [
       "<div>\n",
       "<style scoped>\n",
       "    .dataframe tbody tr th:only-of-type {\n",
       "        vertical-align: middle;\n",
       "    }\n",
       "\n",
       "    .dataframe tbody tr th {\n",
       "        vertical-align: top;\n",
       "    }\n",
       "\n",
       "    .dataframe thead th {\n",
       "        text-align: right;\n",
       "    }\n",
       "</style>\n",
       "<table border=\"1\" class=\"dataframe\">\n",
       "  <thead>\n",
       "    <tr style=\"text-align: right;\">\n",
       "      <th></th>\n",
       "      <th>property_type</th>\n",
       "      <th>price</th>\n",
       "      <th>location</th>\n",
       "      <th>city</th>\n",
       "      <th>province_name</th>\n",
       "      <th>latitude</th>\n",
       "      <th>longitude</th>\n",
       "      <th>baths</th>\n",
       "      <th>purpose</th>\n",
       "      <th>bedrooms</th>\n",
       "      <th>Total_Area</th>\n",
       "    </tr>\n",
       "  </thead>\n",
       "  <tbody>\n",
       "    <tr>\n",
       "      <th>0</th>\n",
       "      <td>1</td>\n",
       "      <td>10000000</td>\n",
       "      <td>488</td>\n",
       "      <td>1</td>\n",
       "      <td>0</td>\n",
       "      <td>33.679890</td>\n",
       "      <td>73.012640</td>\n",
       "      <td>2</td>\n",
       "      <td>1</td>\n",
       "      <td>2</td>\n",
       "      <td>1089.004</td>\n",
       "    </tr>\n",
       "    <tr>\n",
       "      <th>1</th>\n",
       "      <td>1</td>\n",
       "      <td>6900000</td>\n",
       "      <td>415</td>\n",
       "      <td>1</td>\n",
       "      <td>0</td>\n",
       "      <td>33.700993</td>\n",
       "      <td>72.971492</td>\n",
       "      <td>3</td>\n",
       "      <td>1</td>\n",
       "      <td>3</td>\n",
       "      <td>15246.056</td>\n",
       "    </tr>\n",
       "    <tr>\n",
       "      <th>2</th>\n",
       "      <td>2</td>\n",
       "      <td>16500000</td>\n",
       "      <td>493</td>\n",
       "      <td>1</td>\n",
       "      <td>0</td>\n",
       "      <td>33.631486</td>\n",
       "      <td>72.926559</td>\n",
       "      <td>6</td>\n",
       "      <td>1</td>\n",
       "      <td>5</td>\n",
       "      <td>2178.008</td>\n",
       "    </tr>\n",
       "    <tr>\n",
       "      <th>3</th>\n",
       "      <td>2</td>\n",
       "      <td>43500000</td>\n",
       "      <td>211</td>\n",
       "      <td>1</td>\n",
       "      <td>0</td>\n",
       "      <td>33.707573</td>\n",
       "      <td>73.151199</td>\n",
       "      <td>4</td>\n",
       "      <td>1</td>\n",
       "      <td>4</td>\n",
       "      <td>10890.000</td>\n",
       "    </tr>\n",
       "    <tr>\n",
       "      <th>4</th>\n",
       "      <td>2</td>\n",
       "      <td>7000000</td>\n",
       "      <td>351</td>\n",
       "      <td>1</td>\n",
       "      <td>0</td>\n",
       "      <td>33.492591</td>\n",
       "      <td>73.301339</td>\n",
       "      <td>3</td>\n",
       "      <td>1</td>\n",
       "      <td>3</td>\n",
       "      <td>2178.008</td>\n",
       "    </tr>\n",
       "  </tbody>\n",
       "</table>\n",
       "</div>"
      ],
      "text/plain": [
       "   property_type     price  location  city  province_name   latitude  \\\n",
       "0              1  10000000       488     1              0  33.679890   \n",
       "1              1   6900000       415     1              0  33.700993   \n",
       "2              2  16500000       493     1              0  33.631486   \n",
       "3              2  43500000       211     1              0  33.707573   \n",
       "4              2   7000000       351     1              0  33.492591   \n",
       "\n",
       "   longitude  baths  purpose  bedrooms  Total_Area  \n",
       "0  73.012640      2        1         2    1089.004  \n",
       "1  72.971492      3        1         3   15246.056  \n",
       "2  72.926559      6        1         5    2178.008  \n",
       "3  73.151199      4        1         4   10890.000  \n",
       "4  73.301339      3        1         3    2178.008  "
      ]
     },
     "execution_count": 17,
     "metadata": {},
     "output_type": "execute_result"
    }
   ],
   "source": [
    "df.head(5)"
   ]
  },
  {
   "cell_type": "code",
   "execution_count": 18,
   "id": "7bc0d9b3",
   "metadata": {
    "execution": {
     "iopub.execute_input": "2024-11-04T11:49:14.243886Z",
     "iopub.status.busy": "2024-11-04T11:49:14.243601Z",
     "iopub.status.idle": "2024-11-04T11:49:14.253363Z",
     "shell.execute_reply": "2024-11-04T11:49:14.252231Z"
    },
    "papermill": {
     "duration": 0.024283,
     "end_time": "2024-11-04T11:49:14.255286",
     "exception": false,
     "start_time": "2024-11-04T11:49:14.231003",
     "status": "completed"
    },
    "tags": []
   },
   "outputs": [
    {
     "data": {
      "text/plain": [
       "property_type    0\n",
       "price            0\n",
       "location         0\n",
       "city             0\n",
       "province_name    0\n",
       "latitude         0\n",
       "longitude        0\n",
       "baths            0\n",
       "purpose          0\n",
       "bedrooms         0\n",
       "Total_Area       0\n",
       "dtype: int64"
      ]
     },
     "execution_count": 18,
     "metadata": {},
     "output_type": "execute_result"
    }
   ],
   "source": [
    "df.isnull().sum()"
   ]
  },
  {
   "cell_type": "markdown",
   "id": "b6a55357",
   "metadata": {
    "papermill": {
     "duration": 0.011847,
     "end_time": "2024-11-04T11:49:14.279176",
     "exception": false,
     "start_time": "2024-11-04T11:49:14.267329",
     "status": "completed"
    },
    "tags": []
   },
   "source": [
    "# Separating The Dataset\n",
    "Our dataset is completely fine, there is **not object/string** and there is **no NaN**"
   ]
  },
  {
   "cell_type": "code",
   "execution_count": 19,
   "id": "b43922a1",
   "metadata": {
    "execution": {
     "iopub.execute_input": "2024-11-04T11:49:14.305059Z",
     "iopub.status.busy": "2024-11-04T11:49:14.304078Z",
     "iopub.status.idle": "2024-11-04T11:49:14.313333Z",
     "shell.execute_reply": "2024-11-04T11:49:14.312450Z"
    },
    "papermill": {
     "duration": 0.024612,
     "end_time": "2024-11-04T11:49:14.315512",
     "exception": false,
     "start_time": "2024-11-04T11:49:14.290900",
     "status": "completed"
    },
    "tags": []
   },
   "outputs": [],
   "source": [
    "new_df = df.drop('price', axis = 1)\n",
    "target = df['price']"
   ]
  },
  {
   "cell_type": "code",
   "execution_count": 20,
   "id": "f7cb4832",
   "metadata": {
    "execution": {
     "iopub.execute_input": "2024-11-04T11:49:14.341584Z",
     "iopub.status.busy": "2024-11-04T11:49:14.340918Z",
     "iopub.status.idle": "2024-11-04T11:49:14.377766Z",
     "shell.execute_reply": "2024-11-04T11:49:14.376951Z"
    },
    "papermill": {
     "duration": 0.052513,
     "end_time": "2024-11-04T11:49:14.380166",
     "exception": false,
     "start_time": "2024-11-04T11:49:14.327653",
     "status": "completed"
    },
    "tags": []
   },
   "outputs": [],
   "source": [
    "X_train, X_test, y_train, y_test = train_test_split(new_df, target, test_size = 0.2, random_state = 42)"
   ]
  },
  {
   "cell_type": "code",
   "execution_count": 21,
   "id": "3c3b3472",
   "metadata": {
    "execution": {
     "iopub.execute_input": "2024-11-04T11:49:14.406069Z",
     "iopub.status.busy": "2024-11-04T11:49:14.405764Z",
     "iopub.status.idle": "2024-11-04T11:49:14.411864Z",
     "shell.execute_reply": "2024-11-04T11:49:14.411040Z"
    },
    "papermill": {
     "duration": 0.021279,
     "end_time": "2024-11-04T11:49:14.413779",
     "exception": false,
     "start_time": "2024-11-04T11:49:14.392500",
     "status": "completed"
    },
    "tags": []
   },
   "outputs": [
    {
     "data": {
      "text/plain": [
       "(134756, 134756, 33690, 33690)"
      ]
     },
     "execution_count": 21,
     "metadata": {},
     "output_type": "execute_result"
    }
   ],
   "source": [
    "len(X_train), len(y_train), len(X_test), len(y_test)"
   ]
  },
  {
   "cell_type": "markdown",
   "id": "859b0e80",
   "metadata": {
    "papermill": {
     "duration": 0.011781,
     "end_time": "2024-11-04T11:49:14.437456",
     "exception": false,
     "start_time": "2024-11-04T11:49:14.425675",
     "status": "completed"
    },
    "tags": []
   },
   "source": [
    "# Building Multiple Models"
   ]
  },
  {
   "cell_type": "code",
   "execution_count": 22,
   "id": "d78dde0f",
   "metadata": {
    "execution": {
     "iopub.execute_input": "2024-11-04T11:49:14.462575Z",
     "iopub.status.busy": "2024-11-04T11:49:14.461989Z",
     "iopub.status.idle": "2024-11-04T11:49:14.466966Z",
     "shell.execute_reply": "2024-11-04T11:49:14.466141Z"
    },
    "papermill": {
     "duration": 0.01976,
     "end_time": "2024-11-04T11:49:14.468911",
     "exception": false,
     "start_time": "2024-11-04T11:49:14.449151",
     "status": "completed"
    },
    "tags": []
   },
   "outputs": [],
   "source": [
    "models = {\n",
    "    'Linear Regression': LinearRegression(),\n",
    "    'Decision Tree': DecisionTreeRegressor(),\n",
    "    'Random Forest': RandomForestRegressor(),\n",
    "    'Gradient Boosting': GradientBoostingRegressor(),\n",
    "    'XGBoost': xgb.XGBRegressor(objective='reg:squarederror')\n",
    "}"
   ]
  },
  {
   "cell_type": "code",
   "execution_count": 23,
   "id": "01b78948",
   "metadata": {
    "execution": {
     "iopub.execute_input": "2024-11-04T11:49:14.494712Z",
     "iopub.status.busy": "2024-11-04T11:49:14.494035Z",
     "iopub.status.idle": "2024-11-04T11:50:09.077498Z",
     "shell.execute_reply": "2024-11-04T11:50:09.076641Z"
    },
    "papermill": {
     "duration": 54.605165,
     "end_time": "2024-11-04T11:50:09.086068",
     "exception": false,
     "start_time": "2024-11-04T11:49:14.480903",
     "status": "completed"
    },
    "tags": []
   },
   "outputs": [
    {
     "name": "stdout",
     "output_type": "stream",
     "text": [
      "               Model  Mean Squared Error  Mean Absolute Error  R^2 Score\n",
      "2      Random Forest        1.818778e+14         3.282603e+06   0.843090\n",
      "4            XGBoost        2.176874e+14         4.462169e+06   0.812196\n",
      "1      Decision Tree        2.740582e+14         3.571758e+06   0.763563\n",
      "3  Gradient Boosting        4.022702e+14         7.257025e+06   0.652952\n",
      "0  Linear Regression        9.487680e+14         1.508767e+07   0.181475\n"
     ]
    }
   ],
   "source": [
    "results = []\n",
    "\n",
    "for model_name, model in models.items():\n",
    "    model.fit(X_train, y_train)\n",
    "    \n",
    "    y_pred = model.predict(X_test)\n",
    "    \n",
    "    mse = mean_squared_error(y_test, y_pred)\n",
    "    mae = mean_absolute_error(y_test, y_pred)\n",
    "    r2 = r2_score(y_test, y_pred)\n",
    "    \n",
    "    results.append({\n",
    "        'Model': model_name,\n",
    "        'Mean Squared Error': mse,\n",
    "        'Mean Absolute Error': mae,\n",
    "        'R^2 Score': r2\n",
    "    })\n",
    "\n",
    "results_df = pd.DataFrame(results)\n",
    "\n",
    "results_df.sort_values(by='R^2 Score', ascending=False, inplace=True)\n",
    "\n",
    "print(results_df)"
   ]
  },
  {
   "cell_type": "code",
   "execution_count": 24,
   "id": "082897e4",
   "metadata": {
    "execution": {
     "iopub.execute_input": "2024-11-04T11:50:09.111416Z",
     "iopub.status.busy": "2024-11-04T11:50:09.111083Z",
     "iopub.status.idle": "2024-11-04T11:50:09.927136Z",
     "shell.execute_reply": "2024-11-04T11:50:09.926210Z"
    },
    "papermill": {
     "duration": 0.831402,
     "end_time": "2024-11-04T11:50:09.929550",
     "exception": false,
     "start_time": "2024-11-04T11:50:09.098148",
     "status": "completed"
    },
    "tags": []
   },
   "outputs": [
    {
     "data": {
      "image/png": "[encoded data removed]",
      "text/plain": [
       "<Figure size 1800x600 with 3 Axes>"
      ]
     },
     "metadata": {},
     "output_type": "display_data"
    }
   ],
   "source": [
    "sns.set(style=\"whitegrid\")\n",
    "\n",
    "fig, axes = plt.subplots(1, 3, figsize=(18, 6))\n",
    "\n",
    "sns.barplot(x='Mean Squared Error', y='Model', data=results_df, ax=axes[0], palette='viridis')\n",
    "axes[0].set_title('Mean Squared Error (MSE)')\n",
    "axes[0].set_xlabel('MSE')\n",
    "axes[0].set_ylabel('Model')\n",
    "\n",
    "sns.barplot(x='Mean Absolute Error', y='Model', data=results_df, ax=axes[1], palette='viridis')\n",
    "axes[1].set_title('Mean Absolute Error (MAE)')\n",
    "axes[1].set_xlabel('MAE')\n",
    "axes[1].set_ylabel('Model')\n",
    "\n",
    "sns.barplot(x='R^2 Score', y='Model', data=results_df, ax=axes[2], palette='viridis')\n",
    "axes[2].set_title('R^2 Score')\n",
    "axes[2].set_xlabel('R^2 Score')\n",
    "axes[2].set_ylabel('Model')\n",
    "\n",
    "plt.tight_layout()\n",
    "plt.show()"
   ]
  },
  {
   "cell_type": "code",
   "execution_count": null,
   "id": "1919ae22",
   "metadata": {
    "papermill": {
     "duration": 0.012488,
     "end_time": "2024-11-04T11:50:09.954874",
     "exception": false,
     "start_time": "2024-11-04T11:50:09.942386",
     "status": "completed"
    },
    "tags": []
   },
   "outputs": [],
   "source": []
  }
 ],
 "metadata": {
  "kaggle": {
   "accelerator": "gpu",
   "dataSources": [
    {
     "datasetId": 1753715,
     "sourceId": 2863985,
     "sourceType": "datasetVersion"
    }
   ],
   "dockerImageVersionId": 30746,
   "isGpuEnabled": true,
   "isInternetEnabled": false,
   "language": "python",
   "sourceType": "notebook"
  },
  "kernelspec": {
   "display_name": "Python 3",
   "language": "python",
   "name": "python3"
  },
  "language_info": {
   "codemirror_mode": {
    "name": "ipython",
    "version": 3
   },
   "file_extension": ".py",
   "mimetype": "text/x-python",
   "name": "python",
   "nbconvert_exporter": "python",
   "pygments_lexer": "ipython3",
   "version": "3.10.13"
  },
  "papermill": {
   "default_parameters": {},
   "duration": 66.483623,
   "end_time": "2024-11-04T11:50:10.586695",
   "environment_variables": {},
   "exception": null,
   "input_path": "__notebook__.ipynb",
   "output_path": "__notebook__.ipynb",
   "parameters": {},
   "start_time": "2024-11-04T11:49:04.103072",
   "version": "2.5.0"
  }
 },
 "nbformat": 4,
 "nbformat_minor": 5
}
