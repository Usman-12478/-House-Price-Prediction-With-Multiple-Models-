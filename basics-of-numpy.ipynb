{
 "cells": [
  {
   "cell_type": "code",
   "execution_count": 1,
   "id": "28fca498",
   "metadata": {
    "execution": {
     "iopub.execute_input": "2024-11-05T10:36:33.122031Z",
     "iopub.status.busy": "2024-11-05T10:36:33.121585Z",
     "iopub.status.idle": "2024-11-05T10:36:33.134387Z",
     "shell.execute_reply": "2024-11-05T10:36:33.133486Z"
    },
    "papermill": {
     "duration": 0.029892,
     "end_time": "2024-11-05T10:36:33.136786",
     "exception": false,
     "start_time": "2024-11-05T10:36:33.106894",
     "status": "completed"
    },
    "tags": []
   },
   "outputs": [],
   "source": [
    "import numpy as np"
   ]
  },
  {
   "cell_type": "code",
   "execution_count": 2,
   "id": "c4bf8877",
   "metadata": {
    "execution": {
     "iopub.execute_input": "2024-11-05T10:36:33.163987Z",
     "iopub.status.busy": "2024-11-05T10:36:33.163585Z",
     "iopub.status.idle": "2024-11-05T10:36:33.171821Z",
     "shell.execute_reply": "2024-11-05T10:36:33.170621Z"
    },
    "papermill": {
     "duration": 0.024989,
     "end_time": "2024-11-05T10:36:33.174687",
     "exception": false,
     "start_time": "2024-11-05T10:36:33.149698",
     "status": "completed"
    },
    "tags": []
   },
   "outputs": [
    {
     "name": "stdout",
     "output_type": "stream",
     "text": [
      "[1 2 3 4 5] <class 'numpy.ndarray'>\n"
     ]
    }
   ],
   "source": [
    "arr = np.array([1,2,3,4,5])\n",
    "print(arr, type(arr))"
   ]
  },
  {
   "cell_type": "code",
   "execution_count": 3,
   "id": "b776d98f",
   "metadata": {
    "execution": {
     "iopub.execute_input": "2024-11-05T10:36:33.202347Z",
     "iopub.status.busy": "2024-11-05T10:36:33.201923Z",
     "iopub.status.idle": "2024-11-05T10:36:33.211686Z",
     "shell.execute_reply": "2024-11-05T10:36:33.210573Z"
    },
    "papermill": {
     "duration": 0.026428,
     "end_time": "2024-11-05T10:36:33.214098",
     "exception": false,
     "start_time": "2024-11-05T10:36:33.187670",
     "status": "completed"
    },
    "tags": []
   },
   "outputs": [
    {
     "data": {
      "text/plain": [
       "(array([[ 1,  2,  3,  4,  5],\n",
       "        [ 6,  7,  8,  9, 10],\n",
       "        [11, 12, 13, 14, 15]]),\n",
       " numpy.ndarray)"
      ]
     },
     "execution_count": 3,
     "metadata": {},
     "output_type": "execute_result"
    }
   ],
   "source": [
    "matrix = np.array([[1,2,3,4,5],[6,7,8,9,10],[11,12,13,14,15]])\n",
    "matrix, type(matrix)"
   ]
  },
  {
   "cell_type": "code",
   "execution_count": 4,
   "id": "e1460915",
   "metadata": {
    "execution": {
     "iopub.execute_input": "2024-11-05T10:36:33.242273Z",
     "iopub.status.busy": "2024-11-05T10:36:33.241842Z",
     "iopub.status.idle": "2024-11-05T10:36:33.248971Z",
     "shell.execute_reply": "2024-11-05T10:36:33.247663Z"
    },
    "papermill": {
     "duration": 0.024382,
     "end_time": "2024-11-05T10:36:33.251553",
     "exception": false,
     "start_time": "2024-11-05T10:36:33.227171",
     "status": "completed"
    },
    "tags": []
   },
   "outputs": [
    {
     "data": {
      "text/plain": [
       "(3, 5)"
      ]
     },
     "execution_count": 4,
     "metadata": {},
     "output_type": "execute_result"
    }
   ],
   "source": [
    "matrix.shape"
   ]
  },
  {
   "cell_type": "code",
   "execution_count": 5,
   "id": "2584da83",
   "metadata": {
    "execution": {
     "iopub.execute_input": "2024-11-05T10:36:33.280400Z",
     "iopub.status.busy": "2024-11-05T10:36:33.279975Z",
     "iopub.status.idle": "2024-11-05T10:36:33.287502Z",
     "shell.execute_reply": "2024-11-05T10:36:33.286367Z"
    },
    "papermill": {
     "duration": 0.02528,
     "end_time": "2024-11-05T10:36:33.290007",
     "exception": false,
     "start_time": "2024-11-05T10:36:33.264727",
     "status": "completed"
    },
    "tags": []
   },
   "outputs": [
    {
     "data": {
      "text/plain": [
       "array([[0., 0., 0.],\n",
       "       [0., 0., 0.],\n",
       "       [0., 0., 0.]])"
      ]
     },
     "execution_count": 5,
     "metadata": {},
     "output_type": "execute_result"
    }
   ],
   "source": [
    "zeros_array = np.zeros((3,3))\n",
    "zeros_array"
   ]
  },
  {
   "cell_type": "code",
   "execution_count": 6,
   "id": "9db90ecd",
   "metadata": {
    "execution": {
     "iopub.execute_input": "2024-11-05T10:36:33.319037Z",
     "iopub.status.busy": "2024-11-05T10:36:33.318591Z",
     "iopub.status.idle": "2024-11-05T10:36:33.326522Z",
     "shell.execute_reply": "2024-11-05T10:36:33.325392Z"
    },
    "papermill": {
     "duration": 0.025208,
     "end_time": "2024-11-05T10:36:33.328864",
     "exception": false,
     "start_time": "2024-11-05T10:36:33.303656",
     "status": "completed"
    },
    "tags": []
   },
   "outputs": [
    {
     "data": {
      "text/plain": [
       "array([[1., 1., 1., 1.],\n",
       "       [1., 1., 1., 1.],\n",
       "       [1., 1., 1., 1.]])"
      ]
     },
     "execution_count": 6,
     "metadata": {},
     "output_type": "execute_result"
    }
   ],
   "source": [
    "ones_array = np.ones((3,4))\n",
    "ones_array"
   ]
  },
  {
   "cell_type": "code",
   "execution_count": 7,
   "id": "6481dfd1",
   "metadata": {
    "execution": {
     "iopub.execute_input": "2024-11-05T10:36:33.358093Z",
     "iopub.status.busy": "2024-11-05T10:36:33.357641Z",
     "iopub.status.idle": "2024-11-05T10:36:33.365244Z",
     "shell.execute_reply": "2024-11-05T10:36:33.364101Z"
    },
    "papermill": {
     "duration": 0.025401,
     "end_time": "2024-11-05T10:36:33.367836",
     "exception": false,
     "start_time": "2024-11-05T10:36:33.342435",
     "status": "completed"
    },
    "tags": []
   },
   "outputs": [
    {
     "data": {
      "text/plain": [
       "array([0, 1, 2, 3, 4, 5, 6, 7, 8, 9])"
      ]
     },
     "execution_count": 7,
     "metadata": {},
     "output_type": "execute_result"
    }
   ],
   "source": [
    "range_array  = np.arange(10)\n",
    "range_array"
   ]
  },
  {
   "cell_type": "code",
   "execution_count": 8,
   "id": "8cca7132",
   "metadata": {
    "execution": {
     "iopub.execute_input": "2024-11-05T10:36:33.397150Z",
     "iopub.status.busy": "2024-11-05T10:36:33.396716Z",
     "iopub.status.idle": "2024-11-05T10:36:33.404768Z",
     "shell.execute_reply": "2024-11-05T10:36:33.403498Z"
    },
    "papermill": {
     "duration": 0.025678,
     "end_time": "2024-11-05T10:36:33.407267",
     "exception": false,
     "start_time": "2024-11-05T10:36:33.381589",
     "status": "completed"
    },
    "tags": []
   },
   "outputs": [
    {
     "data": {
      "text/plain": [
       "(array([[1., 0., 0.],\n",
       "        [0., 1., 0.],\n",
       "        [0., 0., 1.]]),\n",
       " numpy.ndarray)"
      ]
     },
     "execution_count": 8,
     "metadata": {},
     "output_type": "execute_result"
    }
   ],
   "source": [
    "identity_matrix = np.eye(3)\n",
    "identity_matrix, type(identity_matrix)"
   ]
  },
  {
   "cell_type": "code",
   "execution_count": 9,
   "id": "afa6abba",
   "metadata": {
    "execution": {
     "iopub.execute_input": "2024-11-05T10:36:33.436841Z",
     "iopub.status.busy": "2024-11-05T10:36:33.436440Z",
     "iopub.status.idle": "2024-11-05T10:36:33.443558Z",
     "shell.execute_reply": "2024-11-05T10:36:33.442466Z"
    },
    "papermill": {
     "duration": 0.02547,
     "end_time": "2024-11-05T10:36:33.446620",
     "exception": false,
     "start_time": "2024-11-05T10:36:33.421150",
     "status": "completed"
    },
    "tags": []
   },
   "outputs": [
    {
     "data": {
      "text/plain": [
       "array([ 5, 10, 15, 20, 25, 30, 35, 40, 45])"
      ]
     },
     "execution_count": 9,
     "metadata": {},
     "output_type": "execute_result"
    }
   ],
   "source": [
    "range_array_step = np.arange(5,50,5)\n",
    "range_array_step"
   ]
  },
  {
   "cell_type": "code",
   "execution_count": 10,
   "id": "b51eb99c",
   "metadata": {
    "execution": {
     "iopub.execute_input": "2024-11-05T10:36:33.476753Z",
     "iopub.status.busy": "2024-11-05T10:36:33.476339Z",
     "iopub.status.idle": "2024-11-05T10:36:33.484179Z",
     "shell.execute_reply": "2024-11-05T10:36:33.482779Z"
    },
    "papermill": {
     "duration": 0.026073,
     "end_time": "2024-11-05T10:36:33.486840",
     "exception": false,
     "start_time": "2024-11-05T10:36:33.460767",
     "status": "completed"
    },
    "tags": []
   },
   "outputs": [
    {
     "data": {
      "text/plain": [
       "array([ 2,  4,  6,  8, 10, 12, 14, 16, 18, 20, 22, 24, 26, 28, 30, 32, 34,\n",
       "       36, 38])"
      ]
     },
     "execution_count": 10,
     "metadata": {},
     "output_type": "execute_result"
    }
   ],
   "source": [
    "range_array_steps = np.arange(2,40,2)\n",
    "range_array_steps"
   ]
  },
  {
   "cell_type": "code",
   "execution_count": 11,
   "id": "56232e02",
   "metadata": {
    "execution": {
     "iopub.execute_input": "2024-11-05T10:36:33.519028Z",
     "iopub.status.busy": "2024-11-05T10:36:33.518113Z",
     "iopub.status.idle": "2024-11-05T10:36:33.525786Z",
     "shell.execute_reply": "2024-11-05T10:36:33.524733Z"
    },
    "papermill": {
     "duration": 0.027258,
     "end_time": "2024-11-05T10:36:33.528429",
     "exception": false,
     "start_time": "2024-11-05T10:36:33.501171",
     "status": "completed"
    },
    "tags": []
   },
   "outputs": [
    {
     "data": {
      "text/plain": [
       "array([0.  , 0.25, 0.5 , 0.75, 1.  ])"
      ]
     },
     "execution_count": 11,
     "metadata": {},
     "output_type": "execute_result"
    }
   ],
   "source": [
    "linspace_array = np.linspace(0,1,5)\n",
    "linspace_array"
   ]
  },
  {
   "cell_type": "code",
   "execution_count": 12,
   "id": "3947540c",
   "metadata": {
    "execution": {
     "iopub.execute_input": "2024-11-05T10:36:33.558925Z",
     "iopub.status.busy": "2024-11-05T10:36:33.558549Z",
     "iopub.status.idle": "2024-11-05T10:36:33.566796Z",
     "shell.execute_reply": "2024-11-05T10:36:33.565568Z"
    },
    "papermill": {
     "duration": 0.026522,
     "end_time": "2024-11-05T10:36:33.569334",
     "exception": false,
     "start_time": "2024-11-05T10:36:33.542812",
     "status": "completed"
    },
    "tags": []
   },
   "outputs": [
    {
     "data": {
      "text/plain": [
       "(array([0.        , 0.55555556, 1.11111111, 1.66666667, 2.22222222,\n",
       "        2.77777778, 3.33333333, 3.88888889, 4.44444444, 5.        ]),\n",
       " numpy.ndarray)"
      ]
     },
     "execution_count": 12,
     "metadata": {},
     "output_type": "execute_result"
    }
   ],
   "source": [
    "linspace_array = np.linspace(0,5,10)\n",
    "linspace_array, type(linspace_array)"
   ]
  },
  {
   "cell_type": "code",
   "execution_count": 13,
   "id": "1ea99b44",
   "metadata": {
    "execution": {
     "iopub.execute_input": "2024-11-05T10:36:33.600327Z",
     "iopub.status.busy": "2024-11-05T10:36:33.599523Z",
     "iopub.status.idle": "2024-11-05T10:36:33.607386Z",
     "shell.execute_reply": "2024-11-05T10:36:33.606345Z"
    },
    "papermill": {
     "duration": 0.025848,
     "end_time": "2024-11-05T10:36:33.609706",
     "exception": false,
     "start_time": "2024-11-05T10:36:33.583858",
     "status": "completed"
    },
    "tags": []
   },
   "outputs": [
    {
     "data": {
      "text/plain": [
       "array([[ 1,  2,  3,  4,  6],\n",
       "       [ 5,  7,  8,  9, 10]])"
      ]
     },
     "execution_count": 13,
     "metadata": {},
     "output_type": "execute_result"
    }
   ],
   "source": [
    "array = np.array([1,2,3,4,6,5,7,8,9,10])\n",
    "reshaped_matrix = array.reshape(2,5)\n",
    "reshaped_matrix"
   ]
  },
  {
   "cell_type": "code",
   "execution_count": 14,
   "id": "ae839abd",
   "metadata": {
    "execution": {
     "iopub.execute_input": "2024-11-05T10:36:33.640373Z",
     "iopub.status.busy": "2024-11-05T10:36:33.639972Z",
     "iopub.status.idle": "2024-11-05T10:36:33.647502Z",
     "shell.execute_reply": "2024-11-05T10:36:33.646190Z"
    },
    "papermill": {
     "duration": 0.025762,
     "end_time": "2024-11-05T10:36:33.649970",
     "exception": false,
     "start_time": "2024-11-05T10:36:33.624208",
     "status": "completed"
    },
    "tags": []
   },
   "outputs": [
    {
     "data": {
      "text/plain": [
       "array([[ 1,  2],\n",
       "       [ 3,  4],\n",
       "       [ 6,  5],\n",
       "       [ 7,  8],\n",
       "       [ 9, 10]])"
      ]
     },
     "execution_count": 14,
     "metadata": {},
     "output_type": "execute_result"
    }
   ],
   "source": [
    "reshape_matrix = array.reshape(5,2)\n",
    "reshape_matrix"
   ]
  },
  {
   "cell_type": "code",
   "execution_count": 15,
   "id": "1b977f12",
   "metadata": {
    "execution": {
     "iopub.execute_input": "2024-11-05T10:36:33.681998Z",
     "iopub.status.busy": "2024-11-05T10:36:33.681142Z",
     "iopub.status.idle": "2024-11-05T10:36:33.688591Z",
     "shell.execute_reply": "2024-11-05T10:36:33.687455Z"
    },
    "papermill": {
     "duration": 0.026007,
     "end_time": "2024-11-05T10:36:33.691154",
     "exception": false,
     "start_time": "2024-11-05T10:36:33.665147",
     "status": "completed"
    },
    "tags": []
   },
   "outputs": [
    {
     "data": {
      "text/plain": [
       "array([ 1,  2,  3,  4,  6,  5,  7,  8,  9, 10])"
      ]
     },
     "execution_count": 15,
     "metadata": {},
     "output_type": "execute_result"
    }
   ],
   "source": [
    "flattened_array = array.flatten()\n",
    "flattened_array"
   ]
  },
  {
   "cell_type": "code",
   "execution_count": 16,
   "id": "fb65528a",
   "metadata": {
    "execution": {
     "iopub.execute_input": "2024-11-05T10:36:33.723287Z",
     "iopub.status.busy": "2024-11-05T10:36:33.722875Z",
     "iopub.status.idle": "2024-11-05T10:36:33.731140Z",
     "shell.execute_reply": "2024-11-05T10:36:33.729919Z"
    },
    "papermill": {
     "duration": 0.027714,
     "end_time": "2024-11-05T10:36:33.733920",
     "exception": false,
     "start_time": "2024-11-05T10:36:33.706206",
     "status": "completed"
    },
    "tags": []
   },
   "outputs": [
    {
     "data": {
      "text/plain": [
       "array([ 1,  2,  3,  4,  5,  6,  7,  8,  9, 10])"
      ]
     },
     "execution_count": 16,
     "metadata": {},
     "output_type": "execute_result"
    }
   ],
   "source": [
    "array_c = np.array([1,2,3,4,5,6,7,8,9,10])\n",
    "array_c"
   ]
  },
  {
   "cell_type": "code",
   "execution_count": 17,
   "id": "fe7b68a9",
   "metadata": {
    "execution": {
     "iopub.execute_input": "2024-11-05T10:36:33.766703Z",
     "iopub.status.busy": "2024-11-05T10:36:33.766281Z",
     "iopub.status.idle": "2024-11-05T10:36:33.774170Z",
     "shell.execute_reply": "2024-11-05T10:36:33.772983Z"
    },
    "papermill": {
     "duration": 0.027292,
     "end_time": "2024-11-05T10:36:33.776716",
     "exception": false,
     "start_time": "2024-11-05T10:36:33.749424",
     "status": "completed"
    },
    "tags": []
   },
   "outputs": [
    {
     "data": {
      "text/plain": [
       "array([ 1,  2,  3,  4,  5,  6,  7,  8,  9, 10])"
      ]
     },
     "execution_count": 17,
     "metadata": {},
     "output_type": "execute_result"
    }
   ],
   "source": [
    "flattened_array = array_c.flatten()\n",
    "array_c "
   ]
  },
  {
   "cell_type": "code",
   "execution_count": 18,
   "id": "a81161e1",
   "metadata": {
    "execution": {
     "iopub.execute_input": "2024-11-05T10:36:33.808734Z",
     "iopub.status.busy": "2024-11-05T10:36:33.808276Z",
     "iopub.status.idle": "2024-11-05T10:36:33.816786Z",
     "shell.execute_reply": "2024-11-05T10:36:33.815600Z"
    },
    "papermill": {
     "duration": 0.027618,
     "end_time": "2024-11-05T10:36:33.819435",
     "exception": false,
     "start_time": "2024-11-05T10:36:33.791817",
     "status": "completed"
    },
    "tags": []
   },
   "outputs": [
    {
     "data": {
      "text/plain": [
       "array([ 1,  2,  3,  4,  5,  6,  7,  8,  9, 10, 11, 12, 13, 14, 15])"
      ]
     },
     "execution_count": 18,
     "metadata": {},
     "output_type": "execute_result"
    }
   ],
   "source": [
    "array = np.array([1,2,3,4,5,6,7,8,9,10,11,12,13,14,15])\n",
    "flattened_array = array.flatten()\n",
    "flattened_array"
   ]
  },
  {
   "cell_type": "code",
   "execution_count": 19,
   "id": "ec364cff",
   "metadata": {
    "execution": {
     "iopub.execute_input": "2024-11-05T10:36:33.852428Z",
     "iopub.status.busy": "2024-11-05T10:36:33.851997Z",
     "iopub.status.idle": "2024-11-05T10:36:33.859378Z",
     "shell.execute_reply": "2024-11-05T10:36:33.858213Z"
    },
    "papermill": {
     "duration": 0.027165,
     "end_time": "2024-11-05T10:36:33.862013",
     "exception": false,
     "start_time": "2024-11-05T10:36:33.834848",
     "status": "completed"
    },
    "tags": []
   },
   "outputs": [
    {
     "data": {
      "text/plain": [
       "1"
      ]
     },
     "execution_count": 19,
     "metadata": {},
     "output_type": "execute_result"
    }
   ],
   "source": [
    "flattened_array_min = array.min()\n",
    "flattened_array_min"
   ]
  },
  {
   "cell_type": "code",
   "execution_count": 20,
   "id": "82e0d775",
   "metadata": {
    "execution": {
     "iopub.execute_input": "2024-11-05T10:36:33.894932Z",
     "iopub.status.busy": "2024-11-05T10:36:33.894531Z",
     "iopub.status.idle": "2024-11-05T10:36:33.901900Z",
     "shell.execute_reply": "2024-11-05T10:36:33.900878Z"
    },
    "papermill": {
     "duration": 0.026668,
     "end_time": "2024-11-05T10:36:33.904344",
     "exception": false,
     "start_time": "2024-11-05T10:36:33.877676",
     "status": "completed"
    },
    "tags": []
   },
   "outputs": [
    {
     "data": {
      "text/plain": [
       "15"
      ]
     },
     "execution_count": 20,
     "metadata": {},
     "output_type": "execute_result"
    }
   ],
   "source": [
    "flattened_array_max = array.max()\n",
    "flattened_array_max"
   ]
  },
  {
   "cell_type": "code",
   "execution_count": 21,
   "id": "32dd614d",
   "metadata": {
    "execution": {
     "iopub.execute_input": "2024-11-05T10:36:33.937547Z",
     "iopub.status.busy": "2024-11-05T10:36:33.937046Z",
     "iopub.status.idle": "2024-11-05T10:36:33.944403Z",
     "shell.execute_reply": "2024-11-05T10:36:33.943285Z"
    },
    "papermill": {
     "duration": 0.026775,
     "end_time": "2024-11-05T10:36:33.946835",
     "exception": false,
     "start_time": "2024-11-05T10:36:33.920060",
     "status": "completed"
    },
    "tags": []
   },
   "outputs": [
    {
     "data": {
      "text/plain": [
       "(1, 15)"
      ]
     },
     "execution_count": 21,
     "metadata": {},
     "output_type": "execute_result"
    }
   ],
   "source": [
    "flattened_array_min, flattened_array_max"
   ]
  },
  {
   "cell_type": "code",
   "execution_count": 22,
   "id": "645bf05c",
   "metadata": {
    "execution": {
     "iopub.execute_input": "2024-11-05T10:36:33.980817Z",
     "iopub.status.busy": "2024-11-05T10:36:33.979909Z",
     "iopub.status.idle": "2024-11-05T10:36:33.986500Z",
     "shell.execute_reply": "2024-11-05T10:36:33.985389Z"
    },
    "papermill": {
     "duration": 0.026561,
     "end_time": "2024-11-05T10:36:33.989156",
     "exception": false,
     "start_time": "2024-11-05T10:36:33.962595",
     "status": "completed"
    },
    "tags": []
   },
   "outputs": [
    {
     "name": "stdout",
     "output_type": "stream",
     "text": [
      "[ 1  2  3  4  5  6  7  8  9 10]\n"
     ]
    }
   ],
   "source": [
    "array_X = np.array([1,2,3,4,5,6,7,8,9,10])\n",
    "print(array_X)"
   ]
  },
  {
   "cell_type": "code",
   "execution_count": 23,
   "id": "34de02de",
   "metadata": {
    "execution": {
     "iopub.execute_input": "2024-11-05T10:36:34.023235Z",
     "iopub.status.busy": "2024-11-05T10:36:34.022846Z",
     "iopub.status.idle": "2024-11-05T10:36:34.030016Z",
     "shell.execute_reply": "2024-11-05T10:36:34.028884Z"
    },
    "papermill": {
     "duration": 0.027482,
     "end_time": "2024-11-05T10:36:34.032517",
     "exception": false,
     "start_time": "2024-11-05T10:36:34.005035",
     "status": "completed"
    },
    "tags": []
   },
   "outputs": [
    {
     "data": {
      "text/plain": [
       "5.5"
      ]
     },
     "execution_count": 23,
     "metadata": {},
     "output_type": "execute_result"
    }
   ],
   "source": [
    "mean_value = array_X.mean()\n",
    "mean_value"
   ]
  },
  {
   "cell_type": "code",
   "execution_count": 24,
   "id": "245dac85",
   "metadata": {
    "execution": {
     "iopub.execute_input": "2024-11-05T10:36:34.069737Z",
     "iopub.status.busy": "2024-11-05T10:36:34.068238Z",
     "iopub.status.idle": "2024-11-05T10:36:34.077401Z",
     "shell.execute_reply": "2024-11-05T10:36:34.076093Z"
    },
    "papermill": {
     "duration": 0.03125,
     "end_time": "2024-11-05T10:36:34.080311",
     "exception": false,
     "start_time": "2024-11-05T10:36:34.049061",
     "status": "completed"
    },
    "tags": []
   },
   "outputs": [
    {
     "data": {
      "text/plain": [
       "2.8722813232690143"
      ]
     },
     "execution_count": 24,
     "metadata": {},
     "output_type": "execute_result"
    }
   ],
   "source": [
    "std_dev = array_X.std()\n",
    "std_dev"
   ]
  },
  {
   "cell_type": "code",
   "execution_count": 25,
   "id": "b965b5af",
   "metadata": {
    "execution": {
     "iopub.execute_input": "2024-11-05T10:36:34.117573Z",
     "iopub.status.busy": "2024-11-05T10:36:34.116583Z",
     "iopub.status.idle": "2024-11-05T10:36:34.127544Z",
     "shell.execute_reply": "2024-11-05T10:36:34.126446Z"
    },
    "papermill": {
     "duration": 0.032718,
     "end_time": "2024-11-05T10:36:34.129848",
     "exception": false,
     "start_time": "2024-11-05T10:36:34.097130",
     "status": "completed"
    },
    "tags": []
   },
   "outputs": [
    {
     "data": {
      "text/plain": [
       "array([ 9, 11, 13, 15, 17, 19, 21])"
      ]
     },
     "execution_count": 25,
     "metadata": {},
     "output_type": "execute_result"
    }
   ],
   "source": [
    "array_1 = np.array([1,2,3,4,5,6,7])\n",
    "array_2 = np.array([8,9,10,11,12,13,14])\n",
    "sum_array = array_1 + array_2\n",
    "sum_array"
   ]
  },
  {
   "cell_type": "code",
   "execution_count": 26,
   "id": "bfcc3d09",
   "metadata": {
    "execution": {
     "iopub.execute_input": "2024-11-05T10:36:34.164386Z",
     "iopub.status.busy": "2024-11-05T10:36:34.163944Z",
     "iopub.status.idle": "2024-11-05T10:36:34.171948Z",
     "shell.execute_reply": "2024-11-05T10:36:34.171002Z"
    },
    "papermill": {
     "duration": 0.028319,
     "end_time": "2024-11-05T10:36:34.174585",
     "exception": false,
     "start_time": "2024-11-05T10:36:34.146266",
     "status": "completed"
    },
    "tags": []
   },
   "outputs": [
    {
     "data": {
      "text/plain": [
       "array([ 5,  3,  1, -1, -3, -5])"
      ]
     },
     "execution_count": 26,
     "metadata": {},
     "output_type": "execute_result"
    }
   ],
   "source": [
    "array_2 = np.array([1,2,3,4,5,6])\n",
    "array_3 = np.array([6,5,4,3,2,1])\n",
    "difference_array = array_3 - array_2\n",
    "difference_array"
   ]
  },
  {
   "cell_type": "code",
   "execution_count": 27,
   "id": "4a6aee7a",
   "metadata": {
    "execution": {
     "iopub.execute_input": "2024-11-05T10:36:34.270432Z",
     "iopub.status.busy": "2024-11-05T10:36:34.270032Z",
     "iopub.status.idle": "2024-11-05T10:36:34.278745Z",
     "shell.execute_reply": "2024-11-05T10:36:34.277651Z"
    },
    "papermill": {
     "duration": 0.029133,
     "end_time": "2024-11-05T10:36:34.281275",
     "exception": false,
     "start_time": "2024-11-05T10:36:34.252142",
     "status": "completed"
    },
    "tags": []
   },
   "outputs": [
    {
     "data": {
      "text/plain": [
       "array([ 7, 12, 15, 16, 15, 12,  7])"
      ]
     },
     "execution_count": 27,
     "metadata": {},
     "output_type": "execute_result"
    }
   ],
   "source": [
    "array_4 = np.array([1,2,3,4,5,6,7])\n",
    "array_5 = np.array([7,6,5,4,3,2,1])\n",
    "product_array = array_4 * array_5\n",
    "product_array"
   ]
  },
  {
   "cell_type": "code",
   "execution_count": 28,
   "id": "afaef311",
   "metadata": {
    "execution": {
     "iopub.execute_input": "2024-11-05T10:36:34.317677Z",
     "iopub.status.busy": "2024-11-05T10:36:34.317312Z",
     "iopub.status.idle": "2024-11-05T10:36:34.326500Z",
     "shell.execute_reply": "2024-11-05T10:36:34.325362Z"
    },
    "papermill": {
     "duration": 0.031238,
     "end_time": "2024-11-05T10:36:34.329187",
     "exception": false,
     "start_time": "2024-11-05T10:36:34.297949",
     "status": "completed"
    },
    "tags": []
   },
   "outputs": [
    {
     "data": {
      "text/plain": [
       "array([9.        , 4.        , 2.33333333, 1.5       , 1.        ,\n",
       "       0.66666667, 0.42857143, 0.25      , 0.11111111])"
      ]
     },
     "execution_count": 28,
     "metadata": {},
     "output_type": "execute_result"
    }
   ],
   "source": [
    "array_6 = np.array([1,2,3,4,5,6,7,8,9])\n",
    "array_7 = np.array([9,8,7,6,5,4,3,2,1])\n",
    "divide_array = array_7 / array_6\n",
    "divide_array"
   ]
  },
  {
   "cell_type": "code",
   "execution_count": 29,
   "id": "07d2c34e",
   "metadata": {
    "execution": {
     "iopub.execute_input": "2024-11-05T10:36:34.366079Z",
     "iopub.status.busy": "2024-11-05T10:36:34.365679Z",
     "iopub.status.idle": "2024-11-05T10:36:34.373980Z",
     "shell.execute_reply": "2024-11-05T10:36:34.372883Z"
    },
    "papermill": {
     "duration": 0.029689,
     "end_time": "2024-11-05T10:36:34.376518",
     "exception": false,
     "start_time": "2024-11-05T10:36:34.346829",
     "status": "completed"
    },
    "tags": []
   },
   "outputs": [
    {
     "data": {
      "text/plain": [
       "array([11, 12, 13, 14, 15, 16, 17])"
      ]
     },
     "execution_count": 29,
     "metadata": {},
     "output_type": "execute_result"
    }
   ],
   "source": [
    "array_X = np.array([1,2,3,4,5,6,7])\n",
    "broadcasted_sum = array_X + 10\n",
    "broadcasted_sum"
   ]
  },
  {
   "cell_type": "code",
   "execution_count": 30,
   "id": "54608788",
   "metadata": {
    "execution": {
     "iopub.execute_input": "2024-11-05T10:36:34.413272Z",
     "iopub.status.busy": "2024-11-05T10:36:34.412903Z",
     "iopub.status.idle": "2024-11-05T10:36:34.421620Z",
     "shell.execute_reply": "2024-11-05T10:36:34.420561Z"
    },
    "papermill": {
     "duration": 0.030594,
     "end_time": "2024-11-05T10:36:34.424099",
     "exception": false,
     "start_time": "2024-11-05T10:36:34.393505",
     "status": "completed"
    },
    "tags": []
   },
   "outputs": [
    {
     "data": {
      "text/plain": [
       "array([[19, 22],\n",
       "       [43, 50]])"
      ]
     },
     "execution_count": 30,
     "metadata": {},
     "output_type": "execute_result"
    }
   ],
   "source": [
    "matrix1 = np.array([[1,2],[3,4]])\n",
    "matrix2 = np.array([[5,6],[7,8]])\n",
    "dot_product = np.dot(matrix1, matrix2)\n",
    "dot_product"
   ]
  },
  {
   "cell_type": "code",
   "execution_count": 31,
   "id": "74b3e177",
   "metadata": {
    "execution": {
     "iopub.execute_input": "2024-11-05T10:36:34.460176Z",
     "iopub.status.busy": "2024-11-05T10:36:34.459791Z",
     "iopub.status.idle": "2024-11-05T10:36:34.469703Z",
     "shell.execute_reply": "2024-11-05T10:36:34.468086Z"
    },
    "papermill": {
     "duration": 0.03106,
     "end_time": "2024-11-05T10:36:34.472325",
     "exception": false,
     "start_time": "2024-11-05T10:36:34.441265",
     "status": "completed"
    },
    "tags": []
   },
   "outputs": [
    {
     "data": {
      "text/plain": [
       "array([[10,  6],\n",
       "       [36, 22]])"
      ]
     },
     "execution_count": 31,
     "metadata": {},
     "output_type": "execute_result"
    }
   ],
   "source": [
    "matrix3 = np.array([[1,2],[4,6]])\n",
    "matrix4 = np.array([[6,4],[2,1]])\n",
    "dot_product = np.dot(matrix3, matrix4)\n",
    "dot_product"
   ]
  },
  {
   "cell_type": "code",
   "execution_count": 32,
   "id": "31d8fdf0",
   "metadata": {
    "execution": {
     "iopub.execute_input": "2024-11-05T10:36:34.511042Z",
     "iopub.status.busy": "2024-11-05T10:36:34.510613Z",
     "iopub.status.idle": "2024-11-05T10:36:34.519836Z",
     "shell.execute_reply": "2024-11-05T10:36:34.518398Z"
    },
    "papermill": {
     "duration": 0.033147,
     "end_time": "2024-11-05T10:36:34.523568",
     "exception": false,
     "start_time": "2024-11-05T10:36:34.490421",
     "status": "completed"
    },
    "tags": []
   },
   "outputs": [
    {
     "data": {
      "text/plain": [
       "5"
      ]
     },
     "execution_count": 32,
     "metadata": {},
     "output_type": "execute_result"
    }
   ],
   "source": [
    "array = np.array([1,2,3,4,5,6,7,8])\n",
    "array[4]\n"
   ]
  },
  {
   "cell_type": "code",
   "execution_count": 33,
   "id": "5df71545",
   "metadata": {
    "execution": {
     "iopub.execute_input": "2024-11-05T10:36:34.562213Z",
     "iopub.status.busy": "2024-11-05T10:36:34.561823Z",
     "iopub.status.idle": "2024-11-05T10:36:34.569822Z",
     "shell.execute_reply": "2024-11-05T10:36:34.568285Z"
    },
    "papermill": {
     "duration": 0.02949,
     "end_time": "2024-11-05T10:36:34.572361",
     "exception": false,
     "start_time": "2024-11-05T10:36:34.542871",
     "status": "completed"
    },
    "tags": []
   },
   "outputs": [
    {
     "data": {
      "text/plain": [
       "array([2, 3, 4])"
      ]
     },
     "execution_count": 33,
     "metadata": {},
     "output_type": "execute_result"
    }
   ],
   "source": [
    "sub_array = array[1:4]\n",
    "sub_array"
   ]
  },
  {
   "cell_type": "code",
   "execution_count": 34,
   "id": "504e8e97",
   "metadata": {
    "execution": {
     "iopub.execute_input": "2024-11-05T10:36:34.611238Z",
     "iopub.status.busy": "2024-11-05T10:36:34.610862Z",
     "iopub.status.idle": "2024-11-05T10:36:34.619004Z",
     "shell.execute_reply": "2024-11-05T10:36:34.617902Z"
    },
    "papermill": {
     "duration": 0.030387,
     "end_time": "2024-11-05T10:36:34.621633",
     "exception": false,
     "start_time": "2024-11-05T10:36:34.591246",
     "status": "completed"
    },
    "tags": []
   },
   "outputs": [
    {
     "data": {
      "text/plain": [
       "array([[1, 2],\n",
       "       [3, 4]])"
      ]
     },
     "execution_count": 34,
     "metadata": {},
     "output_type": "execute_result"
    }
   ],
   "source": [
    "matrixX = np.array([[1,2],[3,4]])\n",
    "matrixX"
   ]
  },
  {
   "cell_type": "code",
   "execution_count": 35,
   "id": "3eb377b3",
   "metadata": {
    "execution": {
     "iopub.execute_input": "2024-11-05T10:36:34.659113Z",
     "iopub.status.busy": "2024-11-05T10:36:34.658632Z",
     "iopub.status.idle": "2024-11-05T10:36:34.666073Z",
     "shell.execute_reply": "2024-11-05T10:36:34.664891Z"
    },
    "papermill": {
     "duration": 0.029095,
     "end_time": "2024-11-05T10:36:34.668576",
     "exception": false,
     "start_time": "2024-11-05T10:36:34.639481",
     "status": "completed"
    },
    "tags": []
   },
   "outputs": [
    {
     "data": {
      "text/plain": [
       "3"
      ]
     },
     "execution_count": 35,
     "metadata": {},
     "output_type": "execute_result"
    }
   ],
   "source": [
    "element_2d = matrixX[1,0]\n",
    "element_2d"
   ]
  },
  {
   "cell_type": "code",
   "execution_count": 36,
   "id": "a9949293",
   "metadata": {
    "execution": {
     "iopub.execute_input": "2024-11-05T10:36:34.708224Z",
     "iopub.status.busy": "2024-11-05T10:36:34.707836Z",
     "iopub.status.idle": "2024-11-05T10:36:34.716757Z",
     "shell.execute_reply": "2024-11-05T10:36:34.715201Z"
    },
    "papermill": {
     "duration": 0.031807,
     "end_time": "2024-11-05T10:36:34.719592",
     "exception": false,
     "start_time": "2024-11-05T10:36:34.687785",
     "status": "completed"
    },
    "tags": []
   },
   "outputs": [
    {
     "data": {
      "text/plain": [
       "2"
      ]
     },
     "execution_count": 36,
     "metadata": {},
     "output_type": "execute_result"
    }
   ],
   "source": [
    "element = matrixX[0,1]\n",
    "element"
   ]
  },
  {
   "cell_type": "code",
   "execution_count": 37,
   "id": "3272541c",
   "metadata": {
    "execution": {
     "iopub.execute_input": "2024-11-05T10:36:34.759195Z",
     "iopub.status.busy": "2024-11-05T10:36:34.758782Z",
     "iopub.status.idle": "2024-11-05T10:36:34.767980Z",
     "shell.execute_reply": "2024-11-05T10:36:34.766637Z"
    },
    "papermill": {
     "duration": 0.031148,
     "end_time": "2024-11-05T10:36:34.770529",
     "exception": false,
     "start_time": "2024-11-05T10:36:34.739381",
     "status": "completed"
    },
    "tags": []
   },
   "outputs": [
    {
     "data": {
      "text/plain": [
       "array([False, False, False,  True,  True,  True,  True,  True,  True,\n",
       "        True])"
      ]
     },
     "execution_count": 37,
     "metadata": {},
     "output_type": "execute_result"
    }
   ],
   "source": [
    "matrix1 = np.array([1,2,3,4,5,6,7,8,9,10])\n",
    "selected_values = matrix1 > 3\n",
    "selected_values"
   ]
  },
  {
   "cell_type": "code",
   "execution_count": 38,
   "id": "afb240ef",
   "metadata": {
    "execution": {
     "iopub.execute_input": "2024-11-05T10:36:34.809131Z",
     "iopub.status.busy": "2024-11-05T10:36:34.808691Z",
     "iopub.status.idle": "2024-11-05T10:36:34.819589Z",
     "shell.execute_reply": "2024-11-05T10:36:34.817766Z"
    },
    "papermill": {
     "duration": 0.033672,
     "end_time": "2024-11-05T10:36:34.822477",
     "exception": false,
     "start_time": "2024-11-05T10:36:34.788805",
     "status": "completed"
    },
    "tags": []
   },
   "outputs": [
    {
     "data": {
      "text/plain": [
       "array([ 4,  5,  6,  7,  8,  9, 10])"
      ]
     },
     "execution_count": 38,
     "metadata": {},
     "output_type": "execute_result"
    }
   ],
   "source": [
    "selectedvalue = matrix1[matrix1 > 3]\n",
    "selectedvalue"
   ]
  },
  {
   "cell_type": "code",
   "execution_count": 39,
   "id": "a43b7826",
   "metadata": {
    "execution": {
     "iopub.execute_input": "2024-11-05T10:36:34.864523Z",
     "iopub.status.busy": "2024-11-05T10:36:34.863675Z",
     "iopub.status.idle": "2024-11-05T10:36:34.873018Z",
     "shell.execute_reply": "2024-11-05T10:36:34.871778Z"
    },
    "papermill": {
     "duration": 0.033941,
     "end_time": "2024-11-05T10:36:34.875706",
     "exception": false,
     "start_time": "2024-11-05T10:36:34.841765",
     "status": "completed"
    },
    "tags": []
   },
   "outputs": [
    {
     "data": {
      "text/plain": [
       "array([ 1,  2,  3, 99, 99, 99, 99, 99, 99, 99])"
      ]
     },
     "execution_count": 39,
     "metadata": {},
     "output_type": "execute_result"
    }
   ],
   "source": [
    "matrix1[matrix1 > 3] = 99\n",
    "matrix1"
   ]
  },
  {
   "cell_type": "code",
   "execution_count": 40,
   "id": "94bfaa91",
   "metadata": {
    "execution": {
     "iopub.execute_input": "2024-11-05T10:36:34.915483Z",
     "iopub.status.busy": "2024-11-05T10:36:34.915082Z",
     "iopub.status.idle": "2024-11-05T10:36:34.923424Z",
     "shell.execute_reply": "2024-11-05T10:36:34.922048Z"
    },
    "papermill": {
     "duration": 0.031613,
     "end_time": "2024-11-05T10:36:34.926124",
     "exception": false,
     "start_time": "2024-11-05T10:36:34.894511",
     "status": "completed"
    },
    "tags": []
   },
   "outputs": [
    {
     "data": {
      "text/plain": [
       "array([[1, 2, 3],\n",
       "       [4, 5, 6],\n",
       "       [7, 8, 9]])"
      ]
     },
     "execution_count": 40,
     "metadata": {},
     "output_type": "execute_result"
    }
   ],
   "source": [
    "array_a = np.array([[1,2,3],[4,5,6],[7,8,9]])\n",
    "array_a"
   ]
  },
  {
   "cell_type": "code",
   "execution_count": null,
   "id": "ec34d995",
   "metadata": {
    "papermill": {
     "duration": 0.018882,
     "end_time": "2024-11-05T10:36:34.964567",
     "exception": false,
     "start_time": "2024-11-05T10:36:34.945685",
     "status": "completed"
    },
    "tags": []
   },
   "outputs": [],
   "source": []
  }
 ],
 "metadata": {
  "kaggle": {
   "accelerator": "none",
   "dataSources": [],
   "dockerImageVersionId": 30732,
   "isGpuEnabled": false,
   "isInternetEnabled": false,
   "language": "python",
   "sourceType": "notebook"
  },
  "kernelspec": {
   "display_name": "Python 3",
   "language": "python",
   "name": "python3"
  },
  "language_info": {
   "codemirror_mode": {
    "name": "ipython",
    "version": 3
   },
   "file_extension": ".py",
   "mimetype": "text/x-python",
   "name": "python",
   "nbconvert_exporter": "python",
   "pygments_lexer": "ipython3",
   "version": "3.10.13"
  },
  "papermill": {
   "default_parameters": {},
   "duration": 6.006641,
   "end_time": "2024-11-05T10:36:35.406496",
   "environment_variables": {},
   "exception": null,
   "input_path": "__notebook__.ipynb",
   "output_path": "__notebook__.ipynb",
   "parameters": {},
   "start_time": "2024-11-05T10:36:29.399855",
   "version": "2.5.0"
  }
 },
 "nbformat": 4,
 "nbformat_minor": 5
}
